{
  "nbformat": 4,
  "nbformat_minor": 0,
  "metadata": {
    "colab": {
      "provenance": [],
      "collapsed_sections": [
        "9spWu8a8wpKX",
        "cQWY0G6pww9M"
      ],
      "toc_visible": true,
      "include_colab_link": true
    },
    "kernelspec": {
      "name": "python3",
      "display_name": "Python 3"
    },
    "language_info": {
      "name": "python"
    }
  },
  "cells": [
    {
      "cell_type": "markdown",
      "metadata": {
        "id": "view-in-github",
        "colab_type": "text"
      },
      "source": [
        "<a href=\"https://colab.research.google.com/github/winckey/CS_study/blob/master/ML_creadit_card_fraud_SSB.ipynb\" target=\"_parent\"><img src=\"https://colab.research.google.com/assets/colab-badge.svg\" alt=\"Open In Colab\"/></a>"
      ]
    },
    {
      "cell_type": "markdown",
      "source": [
        "# (체험).머신러닝 모델링의 중요성 "
      ],
      "metadata": {
        "id": "lqcJqd1MtiDX"
      }
    },
    {
      "cell_type": "markdown",
      "source": [
        "##[a,b,a+b] 데이터\n",
        "\n",
        "[예시1]\n",
        "\n",
        "[패턴]\n",
        "- 1,2,3\n",
        "- 3,5,8\n",
        "- 4,3,7\n",
        "\n",
        "→\n",
        "\n",
        "[예측]\n",
        "- 3,2,? ->5\n",
        "- 5,4,? ->9\n",
        "- 6,6,? ->12\n"
      ],
      "metadata": {
        "id": "MqXXgEcH4hMc"
      }
    },
    {
      "cell_type": "markdown",
      "source": [
        "### [a,b,a+b] _ DecisioTreeRegressor 로 결과값예측하기"
      ],
      "metadata": {
        "id": "4YnUBMi3M82P"
      }
    },
    {
      "cell_type": "code",
      "source": [
        "import pandas as pd\n",
        "import numpy as np\n",
        "import sklearn ,random\n",
        "from sklearn.tree import DecisionTreeRegressor\n",
        "#training 데이터 제작\n",
        "raw = [[1,2,3],[3,5,8],[4,3,7]]\n",
        "df = pd.DataFrame(raw)\n",
        "X_train = df[[0,1]]\n",
        "y_train = df[2]\n",
        "#모델 생성 & 학습\n",
        "model=DecisionTreeRegressor(random_state=123)\n",
        "model.fit(X_train,y_train)\n",
        "#test 데이터 제작\n",
        "print('검증용 데이터')\n",
        "test_raw = [[3,2,5],[5,4,9],[6,6,12]]\n",
        "for a in test_raw:\n",
        "  print(a[0],a[1],'정답:',a[2])\n",
        "df_test = pd.DataFrame(test_raw)\n",
        "X_test = df_test[[0,1]]\n",
        "y_test = df_test[2]\n",
        "#test data 예측하기\n",
        "print(\"모델의 예측값\")\n",
        "model.predict(X_test)"
      ],
      "metadata": {
        "colab": {
          "base_uri": "https://localhost:8080/"
        },
        "id": "OS_6JgsDM63w",
        "outputId": "42f34cf3-f7cc-4724-e9d6-326dbab51331"
      },
      "execution_count": null,
      "outputs": [
        {
          "output_type": "stream",
          "name": "stdout",
          "text": [
            "검증용 데이터\n",
            "3 2 정답: 5\n",
            "5 4 정답: 9\n",
            "6 6 정답: 12\n",
            "모델의 예측값\n"
          ]
        },
        {
          "output_type": "execute_result",
          "data": {
            "text/plain": [
              "array([8., 7., 7.])"
            ]
          },
          "metadata": {},
          "execution_count": 1
        }
      ]
    },
    {
      "cell_type": "markdown",
      "source": [
        "### [a,b,a+b] _ Linear Regression 으로 결과값예측하기"
      ],
      "metadata": {
        "id": "g1cMOUid4nZR"
      }
    },
    {
      "cell_type": "code",
      "source": [
        "import pandas as pd\n",
        "import sklearn ,random\n",
        "import numpy as np\n",
        "from sklearn.linear_model import LinearRegression\n",
        "#training 데이터 제작\n",
        "raw = [[1,2,3],[3,5,8],[4,3,7]]\n",
        "df = pd.DataFrame(raw)\n",
        "X_train = df[[0,1]]\n",
        "y_train = df[2]\n",
        "#모델 생성 & 학습\n",
        "model=LinearRegression()\n",
        "model.fit(X_train,y_train)\n",
        "#test 데이터 제작\n",
        "print('검증용 데이터')\n",
        "test_raw = [[3,2,5],[5,4,9],[6,6,12]]\n",
        "for a in test_raw:\n",
        "  print(a[0],a[1],'정답:',a[2])\n",
        "df_test = pd.DataFrame(test_raw)\n",
        "X_test = df_test[[0,1]]\n",
        "y_test = df_test[2]\n",
        "#test data 예측하기\n",
        "print(\"모델의 예측값\")\n",
        "model.predict(X_test)"
      ],
      "metadata": {
        "colab": {
          "base_uri": "https://localhost:8080/"
        },
        "outputId": "1a66da7f-79d3-494a-f1a2-a7d27635b6f4",
        "id": "xsUFA9VS4nZR"
      },
      "execution_count": null,
      "outputs": [
        {
          "output_type": "stream",
          "name": "stdout",
          "text": [
            "검증용 데이터\n",
            "3 2 정답: 5\n",
            "5 4 정답: 9\n",
            "6 6 정답: 12\n",
            "모델의 예측값\n"
          ]
        },
        {
          "output_type": "execute_result",
          "data": {
            "text/plain": [
              "array([ 5.,  9., 12.])"
            ]
          },
          "metadata": {},
          "execution_count": 2
        }
      ]
    },
    {
      "cell_type": "markdown",
      "source": [
        "### [a,b,a+b] _ DecisioTreeRegressor 로 결과값예측하기 _학습량증가"
      ],
      "metadata": {
        "id": "L0Th70uAOQRO"
      }
    },
    {
      "cell_type": "code",
      "source": [
        "import pandas as pd\n",
        "import sklearn ,random\n",
        "import numpy as np\n",
        "from sklearn.tree import DecisionTreeRegressor\n",
        "#training 데이터 제작\n",
        "raw =[]\n",
        "for a in range(100):\n",
        "  for b in range(100):\n",
        "    ra = random.randint(1,2*a+1)\n",
        "    rb = random.randint(1,2*b+1)\n",
        "    raw.append([ra,rb,ra+rb+(random.random()/100)])\n",
        "df = pd.DataFrame(raw)\n",
        "X_train = df[[0,1]]\n",
        "y_train = df[2]\n",
        "#모델 생성 & 학습\n",
        "model=DecisionTreeRegressor()\n",
        "model.fit(X_train,y_train)\n",
        "#test 데이터 제작\n",
        "print('검증용 데이터')\n",
        "test_raw = [[3,2,5],[5,4,9],[6,6,12]]\n",
        "for a in test_raw:\n",
        "  print(a[0],a[1],'정답:',a[2])\n",
        "df_test = pd.DataFrame(test_raw)\n",
        "X_test = df_test[[0,1]]\n",
        "y_test = df_test[2]\n",
        "#test data 예측하기\n",
        "print(\"모델의 예측값\")\n",
        "model.predict(X_test)"
      ],
      "metadata": {
        "colab": {
          "base_uri": "https://localhost:8080/"
        },
        "id": "pzNvALuMOTQB",
        "outputId": "819b80a0-e6f0-42ea-acab-a10edbe24fbd"
      },
      "execution_count": null,
      "outputs": [
        {
          "output_type": "stream",
          "name": "stdout",
          "text": [
            "검증용 데이터\n",
            "3 2 정답: 5\n",
            "5 4 정답: 9\n",
            "6 6 정답: 12\n",
            "모델의 예측값\n"
          ]
        },
        {
          "output_type": "execute_result",
          "data": {
            "text/plain": [
              "array([ 5.00503708,  9.00833947, 12.00256142])"
            ]
          },
          "metadata": {},
          "execution_count": 3
        }
      ]
    },
    {
      "cell_type": "markdown",
      "metadata": {
        "id": "970a6758"
      },
      "source": [
        "# 0.사전준비"
      ]
    },
    {
      "cell_type": "code",
      "execution_count": null,
      "metadata": {
        "colab": {
          "base_uri": "https://localhost:8080/"
        },
        "id": "b1f103d4",
        "outputId": "fd159bf1-4ea9-4840-eb07-f98e659b83d0",
        "scrolled": true
      },
      "outputs": [
        {
          "output_type": "stream",
          "name": "stdout",
          "text": [
            "Looking in indexes: https://pypi.org/simple, https://us-python.pkg.dev/colab-wheels/public/simple/\n",
            "Requirement already satisfied: gdown in /usr/local/lib/python3.10/dist-packages (4.6.6)\n",
            "Collecting gdown\n",
            "  Downloading gdown-4.7.1-py3-none-any.whl (15 kB)\n",
            "Requirement already satisfied: filelock in /usr/local/lib/python3.10/dist-packages (from gdown) (3.12.0)\n",
            "Requirement already satisfied: requests[socks] in /usr/local/lib/python3.10/dist-packages (from gdown) (2.27.1)\n",
            "Requirement already satisfied: six in /usr/local/lib/python3.10/dist-packages (from gdown) (1.16.0)\n",
            "Requirement already satisfied: tqdm in /usr/local/lib/python3.10/dist-packages (from gdown) (4.65.0)\n",
            "Requirement already satisfied: beautifulsoup4 in /usr/local/lib/python3.10/dist-packages (from gdown) (4.11.2)\n",
            "Requirement already satisfied: soupsieve>1.2 in /usr/local/lib/python3.10/dist-packages (from beautifulsoup4->gdown) (2.4.1)\n",
            "Requirement already satisfied: urllib3<1.27,>=1.21.1 in /usr/local/lib/python3.10/dist-packages (from requests[socks]->gdown) (1.26.15)\n",
            "Requirement already satisfied: certifi>=2017.4.17 in /usr/local/lib/python3.10/dist-packages (from requests[socks]->gdown) (2022.12.7)\n",
            "Requirement already satisfied: charset-normalizer~=2.0.0 in /usr/local/lib/python3.10/dist-packages (from requests[socks]->gdown) (2.0.12)\n",
            "Requirement already satisfied: idna<4,>=2.5 in /usr/local/lib/python3.10/dist-packages (from requests[socks]->gdown) (3.4)\n",
            "Requirement already satisfied: PySocks!=1.5.7,>=1.5.6 in /usr/local/lib/python3.10/dist-packages (from requests[socks]->gdown) (1.7.1)\n",
            "Installing collected packages: gdown\n",
            "  Attempting uninstall: gdown\n",
            "    Found existing installation: gdown 4.6.6\n",
            "    Uninstalling gdown-4.6.6:\n",
            "      Successfully uninstalled gdown-4.6.6\n",
            "Successfully installed gdown-4.7.1\n"
          ]
        },
        {
          "output_type": "stream",
          "name": "stderr",
          "text": [
            "Downloading...\n",
            "From (uriginal): https://drive.google.com/uc?id=1s-f8Q1mbi8W_UrvaY6Ee5T2AfH7IXfTo\n",
            "From (redirected): https://drive.google.com/uc?id=1s-f8Q1mbi8W_UrvaY6Ee5T2AfH7IXfTo&confirm=t&uuid=bc69a6ab-a54d-451f-8a3f-e11f673b70e0\n",
            "To: /content/credit_card_fraud.zip\n",
            "100%|██████████| 69.2M/69.2M [00:03<00:00, 22.8MB/s]\n"
          ]
        }
      ],
      "source": [
        "# 관련데이터 가져오기\n",
        "# https://drive.google.com/file/d/1s-f8Q1mbi8W_UrvaY6Ee5T2AfH7IXfTo/view?usp=sharing\n",
        "# https://drive.google.com/file/d/1s-f8Q1mbi8W_UrvaY6Ee5T2AfH7IXfTo/view?usp=share_link\n",
        "#파일다운로드\n",
        "\n",
        "# #pc/colab용\n",
        "!pip install --upgrade gdown\n",
        "import gdown\n",
        "import zipfile\n",
        "google_path = \"https://drive.google.com/uc?id=\"\n",
        "file_id = '1s-f8Q1mbi8W_UrvaY6Ee5T2AfH7IXfTo'\n",
        "output_name = \"credit_card_fraud.zip\"\n",
        "gdown.download(google_path+file_id,output_name,quiet=False)\n",
        "fantasy_zip = zipfile.ZipFile(\"credit_card_fraud.zip\")\n",
        "fantasy_zip.extractall()"
      ]
    },
    {
      "cell_type": "markdown",
      "source": [
        "# 1.ChatGPT를 통한 지도학습/분류 문제 프로그램 해결하기"
      ],
      "metadata": {
        "id": "Dk-n96WS31J7"
      }
    },
    {
      "cell_type": "code",
      "source": [
        "# 데이터 열기\n",
        "# 데이터에서 class를 우리가 예측"
      ],
      "metadata": {
        "id": "gu3FzBUD4Du4"
      },
      "execution_count": null,
      "outputs": []
    },
    {
      "cell_type": "code",
      "source": [],
      "metadata": {
        "id": "cCuGvDv-4B2G"
      },
      "execution_count": null,
      "outputs": []
    },
    {
      "cell_type": "code",
      "source": [],
      "metadata": {
        "id": "SLd7z7Sm31Fn"
      },
      "execution_count": null,
      "outputs": []
    },
    {
      "cell_type": "code",
      "source": [],
      "metadata": {
        "id": "ZInwP7vZ31Aw"
      },
      "execution_count": null,
      "outputs": []
    },
    {
      "cell_type": "code",
      "source": [],
      "metadata": {
        "id": "GDTRIR_7305l"
      },
      "execution_count": null,
      "outputs": []
    },
    {
      "cell_type": "code",
      "source": [],
      "metadata": {
        "id": "qpKRrVoo300X"
      },
      "execution_count": null,
      "outputs": []
    },
    {
      "cell_type": "code",
      "source": [],
      "metadata": {
        "id": "-I_R4ryp30sT"
      },
      "execution_count": null,
      "outputs": []
    },
    {
      "cell_type": "code",
      "source": [],
      "metadata": {
        "id": "nlooCvEp30JY"
      },
      "execution_count": null,
      "outputs": []
    },
    {
      "cell_type": "code",
      "source": [],
      "metadata": {
        "id": "cn1tw2s930C4"
      },
      "execution_count": null,
      "outputs": []
    },
    {
      "cell_type": "code",
      "source": [],
      "metadata": {
        "id": "1A7bfexT3z8O"
      },
      "execution_count": null,
      "outputs": []
    },
    {
      "cell_type": "code",
      "source": [],
      "metadata": {
        "id": "N96dAgtl3z0q"
      },
      "execution_count": null,
      "outputs": []
    },
    {
      "cell_type": "code",
      "source": [],
      "metadata": {
        "id": "-aWcRB9x3zt2"
      },
      "execution_count": null,
      "outputs": []
    },
    {
      "cell_type": "code",
      "source": [],
      "metadata": {
        "id": "2xhRXEq53zla"
      },
      "execution_count": null,
      "outputs": []
    },
    {
      "cell_type": "code",
      "source": [],
      "metadata": {
        "id": "V3OluI1t3zeA"
      },
      "execution_count": null,
      "outputs": []
    },
    {
      "cell_type": "code",
      "source": [],
      "metadata": {
        "id": "oqW5SQ6sBQas"
      },
      "execution_count": null,
      "outputs": []
    },
    {
      "cell_type": "markdown",
      "metadata": {
        "id": "315de198"
      },
      "source": [
        "# 3.현업문제해결\n",
        "---"
      ]
    },
    {
      "cell_type": "code",
      "source": [
        "#데이터 가져오기 _신용카드 사기데이터CSV 파일 가져오기\n",
        "import pandas as pd\n",
        "df = pd.read_csv('creditcard.csv')"
      ],
      "metadata": {
        "id": "LAflWaV9-693"
      },
      "execution_count": null,
      "outputs": []
    },
    {
      "cell_type": "code",
      "source": [
        "#데이터 기본 틀 확인(상위 5개 데이터 가져오기)\n",
        "df.head()"
      ],
      "metadata": {
        "id": "mh3zSQmXBeNN",
        "colab": {
          "base_uri": "https://localhost:8080/",
          "height": 300
        },
        "outputId": "e0a37ca3-6fe4-4092-f7b7-42d1ca798e32"
      },
      "execution_count": null,
      "outputs": [
        {
          "output_type": "execute_result",
          "data": {
            "text/plain": [
              "   Time        V1        V2        V3        V4        V5        V6        V7  \\\n",
              "0   0.0 -1.359807 -0.072781  2.536347  1.378155 -0.338321  0.462388  0.239599   \n",
              "1   0.0  1.191857  0.266151  0.166480  0.448154  0.060018 -0.082361 -0.078803   \n",
              "2   1.0 -1.358354 -1.340163  1.773209  0.379780 -0.503198  1.800499  0.791461   \n",
              "3   1.0 -0.966272 -0.185226  1.792993 -0.863291 -0.010309  1.247203  0.237609   \n",
              "4   2.0 -1.158233  0.877737  1.548718  0.403034 -0.407193  0.095921  0.592941   \n",
              "\n",
              "         V8        V9  ...       V21       V22       V23       V24       V25  \\\n",
              "0  0.098698  0.363787  ... -0.018307  0.277838 -0.110474  0.066928  0.128539   \n",
              "1  0.085102 -0.255425  ... -0.225775 -0.638672  0.101288 -0.339846  0.167170   \n",
              "2  0.247676 -1.514654  ...  0.247998  0.771679  0.909412 -0.689281 -0.327642   \n",
              "3  0.377436 -1.387024  ... -0.108300  0.005274 -0.190321 -1.175575  0.647376   \n",
              "4 -0.270533  0.817739  ... -0.009431  0.798278 -0.137458  0.141267 -0.206010   \n",
              "\n",
              "        V26       V27       V28  Amount  Class  \n",
              "0 -0.189115  0.133558 -0.021053  149.62      0  \n",
              "1  0.125895 -0.008983  0.014724    2.69      0  \n",
              "2 -0.139097 -0.055353 -0.059752  378.66      0  \n",
              "3 -0.221929  0.062723  0.061458  123.50      0  \n",
              "4  0.502292  0.219422  0.215153   69.99      0  \n",
              "\n",
              "[5 rows x 31 columns]"
            ],
            "text/html": [
              "\n",
              "  <div id=\"df-4f145388-d016-413a-9528-1b79c6817661\">\n",
              "    <div class=\"colab-df-container\">\n",
              "      <div>\n",
              "<style scoped>\n",
              "    .dataframe tbody tr th:only-of-type {\n",
              "        vertical-align: middle;\n",
              "    }\n",
              "\n",
              "    .dataframe tbody tr th {\n",
              "        vertical-align: top;\n",
              "    }\n",
              "\n",
              "    .dataframe thead th {\n",
              "        text-align: right;\n",
              "    }\n",
              "</style>\n",
              "<table border=\"1\" class=\"dataframe\">\n",
              "  <thead>\n",
              "    <tr style=\"text-align: right;\">\n",
              "      <th></th>\n",
              "      <th>Time</th>\n",
              "      <th>V1</th>\n",
              "      <th>V2</th>\n",
              "      <th>V3</th>\n",
              "      <th>V4</th>\n",
              "      <th>V5</th>\n",
              "      <th>V6</th>\n",
              "      <th>V7</th>\n",
              "      <th>V8</th>\n",
              "      <th>V9</th>\n",
              "      <th>...</th>\n",
              "      <th>V21</th>\n",
              "      <th>V22</th>\n",
              "      <th>V23</th>\n",
              "      <th>V24</th>\n",
              "      <th>V25</th>\n",
              "      <th>V26</th>\n",
              "      <th>V27</th>\n",
              "      <th>V28</th>\n",
              "      <th>Amount</th>\n",
              "      <th>Class</th>\n",
              "    </tr>\n",
              "  </thead>\n",
              "  <tbody>\n",
              "    <tr>\n",
              "      <th>0</th>\n",
              "      <td>0.0</td>\n",
              "      <td>-1.359807</td>\n",
              "      <td>-0.072781</td>\n",
              "      <td>2.536347</td>\n",
              "      <td>1.378155</td>\n",
              "      <td>-0.338321</td>\n",
              "      <td>0.462388</td>\n",
              "      <td>0.239599</td>\n",
              "      <td>0.098698</td>\n",
              "      <td>0.363787</td>\n",
              "      <td>...</td>\n",
              "      <td>-0.018307</td>\n",
              "      <td>0.277838</td>\n",
              "      <td>-0.110474</td>\n",
              "      <td>0.066928</td>\n",
              "      <td>0.128539</td>\n",
              "      <td>-0.189115</td>\n",
              "      <td>0.133558</td>\n",
              "      <td>-0.021053</td>\n",
              "      <td>149.62</td>\n",
              "      <td>0</td>\n",
              "    </tr>\n",
              "    <tr>\n",
              "      <th>1</th>\n",
              "      <td>0.0</td>\n",
              "      <td>1.191857</td>\n",
              "      <td>0.266151</td>\n",
              "      <td>0.166480</td>\n",
              "      <td>0.448154</td>\n",
              "      <td>0.060018</td>\n",
              "      <td>-0.082361</td>\n",
              "      <td>-0.078803</td>\n",
              "      <td>0.085102</td>\n",
              "      <td>-0.255425</td>\n",
              "      <td>...</td>\n",
              "      <td>-0.225775</td>\n",
              "      <td>-0.638672</td>\n",
              "      <td>0.101288</td>\n",
              "      <td>-0.339846</td>\n",
              "      <td>0.167170</td>\n",
              "      <td>0.125895</td>\n",
              "      <td>-0.008983</td>\n",
              "      <td>0.014724</td>\n",
              "      <td>2.69</td>\n",
              "      <td>0</td>\n",
              "    </tr>\n",
              "    <tr>\n",
              "      <th>2</th>\n",
              "      <td>1.0</td>\n",
              "      <td>-1.358354</td>\n",
              "      <td>-1.340163</td>\n",
              "      <td>1.773209</td>\n",
              "      <td>0.379780</td>\n",
              "      <td>-0.503198</td>\n",
              "      <td>1.800499</td>\n",
              "      <td>0.791461</td>\n",
              "      <td>0.247676</td>\n",
              "      <td>-1.514654</td>\n",
              "      <td>...</td>\n",
              "      <td>0.247998</td>\n",
              "      <td>0.771679</td>\n",
              "      <td>0.909412</td>\n",
              "      <td>-0.689281</td>\n",
              "      <td>-0.327642</td>\n",
              "      <td>-0.139097</td>\n",
              "      <td>-0.055353</td>\n",
              "      <td>-0.059752</td>\n",
              "      <td>378.66</td>\n",
              "      <td>0</td>\n",
              "    </tr>\n",
              "    <tr>\n",
              "      <th>3</th>\n",
              "      <td>1.0</td>\n",
              "      <td>-0.966272</td>\n",
              "      <td>-0.185226</td>\n",
              "      <td>1.792993</td>\n",
              "      <td>-0.863291</td>\n",
              "      <td>-0.010309</td>\n",
              "      <td>1.247203</td>\n",
              "      <td>0.237609</td>\n",
              "      <td>0.377436</td>\n",
              "      <td>-1.387024</td>\n",
              "      <td>...</td>\n",
              "      <td>-0.108300</td>\n",
              "      <td>0.005274</td>\n",
              "      <td>-0.190321</td>\n",
              "      <td>-1.175575</td>\n",
              "      <td>0.647376</td>\n",
              "      <td>-0.221929</td>\n",
              "      <td>0.062723</td>\n",
              "      <td>0.061458</td>\n",
              "      <td>123.50</td>\n",
              "      <td>0</td>\n",
              "    </tr>\n",
              "    <tr>\n",
              "      <th>4</th>\n",
              "      <td>2.0</td>\n",
              "      <td>-1.158233</td>\n",
              "      <td>0.877737</td>\n",
              "      <td>1.548718</td>\n",
              "      <td>0.403034</td>\n",
              "      <td>-0.407193</td>\n",
              "      <td>0.095921</td>\n",
              "      <td>0.592941</td>\n",
              "      <td>-0.270533</td>\n",
              "      <td>0.817739</td>\n",
              "      <td>...</td>\n",
              "      <td>-0.009431</td>\n",
              "      <td>0.798278</td>\n",
              "      <td>-0.137458</td>\n",
              "      <td>0.141267</td>\n",
              "      <td>-0.206010</td>\n",
              "      <td>0.502292</td>\n",
              "      <td>0.219422</td>\n",
              "      <td>0.215153</td>\n",
              "      <td>69.99</td>\n",
              "      <td>0</td>\n",
              "    </tr>\n",
              "  </tbody>\n",
              "</table>\n",
              "<p>5 rows × 31 columns</p>\n",
              "</div>\n",
              "      <button class=\"colab-df-convert\" onclick=\"convertToInteractive('df-4f145388-d016-413a-9528-1b79c6817661')\"\n",
              "              title=\"Convert this dataframe to an interactive table.\"\n",
              "              style=\"display:none;\">\n",
              "        \n",
              "  <svg xmlns=\"http://www.w3.org/2000/svg\" height=\"24px\"viewBox=\"0 0 24 24\"\n",
              "       width=\"24px\">\n",
              "    <path d=\"M0 0h24v24H0V0z\" fill=\"none\"/>\n",
              "    <path d=\"M18.56 5.44l.94 2.06.94-2.06 2.06-.94-2.06-.94-.94-2.06-.94 2.06-2.06.94zm-11 1L8.5 8.5l.94-2.06 2.06-.94-2.06-.94L8.5 2.5l-.94 2.06-2.06.94zm10 10l.94 2.06.94-2.06 2.06-.94-2.06-.94-.94-2.06-.94 2.06-2.06.94z\"/><path d=\"M17.41 7.96l-1.37-1.37c-.4-.4-.92-.59-1.43-.59-.52 0-1.04.2-1.43.59L10.3 9.45l-7.72 7.72c-.78.78-.78 2.05 0 2.83L4 21.41c.39.39.9.59 1.41.59.51 0 1.02-.2 1.41-.59l7.78-7.78 2.81-2.81c.8-.78.8-2.07 0-2.86zM5.41 20L4 18.59l7.72-7.72 1.47 1.35L5.41 20z\"/>\n",
              "  </svg>\n",
              "      </button>\n",
              "      \n",
              "  <style>\n",
              "    .colab-df-container {\n",
              "      display:flex;\n",
              "      flex-wrap:wrap;\n",
              "      gap: 12px;\n",
              "    }\n",
              "\n",
              "    .colab-df-convert {\n",
              "      background-color: #E8F0FE;\n",
              "      border: none;\n",
              "      border-radius: 50%;\n",
              "      cursor: pointer;\n",
              "      display: none;\n",
              "      fill: #1967D2;\n",
              "      height: 32px;\n",
              "      padding: 0 0 0 0;\n",
              "      width: 32px;\n",
              "    }\n",
              "\n",
              "    .colab-df-convert:hover {\n",
              "      background-color: #E2EBFA;\n",
              "      box-shadow: 0px 1px 2px rgba(60, 64, 67, 0.3), 0px 1px 3px 1px rgba(60, 64, 67, 0.15);\n",
              "      fill: #174EA6;\n",
              "    }\n",
              "\n",
              "    [theme=dark] .colab-df-convert {\n",
              "      background-color: #3B4455;\n",
              "      fill: #D2E3FC;\n",
              "    }\n",
              "\n",
              "    [theme=dark] .colab-df-convert:hover {\n",
              "      background-color: #434B5C;\n",
              "      box-shadow: 0px 1px 3px 1px rgba(0, 0, 0, 0.15);\n",
              "      filter: drop-shadow(0px 1px 2px rgba(0, 0, 0, 0.3));\n",
              "      fill: #FFFFFF;\n",
              "    }\n",
              "  </style>\n",
              "\n",
              "      <script>\n",
              "        const buttonEl =\n",
              "          document.querySelector('#df-4f145388-d016-413a-9528-1b79c6817661 button.colab-df-convert');\n",
              "        buttonEl.style.display =\n",
              "          google.colab.kernel.accessAllowed ? 'block' : 'none';\n",
              "\n",
              "        async function convertToInteractive(key) {\n",
              "          const element = document.querySelector('#df-4f145388-d016-413a-9528-1b79c6817661');\n",
              "          const dataTable =\n",
              "            await google.colab.kernel.invokeFunction('convertToInteractive',\n",
              "                                                     [key], {});\n",
              "          if (!dataTable) return;\n",
              "\n",
              "          const docLinkHtml = 'Like what you see? Visit the ' +\n",
              "            '<a target=\"_blank\" href=https://colab.research.google.com/notebooks/data_table.ipynb>data table notebook</a>'\n",
              "            + ' to learn more about interactive tables.';\n",
              "          element.innerHTML = '';\n",
              "          dataTable['output_type'] = 'display_data';\n",
              "          await google.colab.output.renderOutput(dataTable, element);\n",
              "          const docLink = document.createElement('div');\n",
              "          docLink.innerHTML = docLinkHtml;\n",
              "          element.appendChild(docLink);\n",
              "        }\n",
              "      </script>\n",
              "    </div>\n",
              "  </div>\n",
              "  "
            ]
          },
          "metadata": {},
          "execution_count": 7
        }
      ]
    },
    {
      "cell_type": "code",
      "source": [
        "#데이터 결과값 구조\n",
        "df['Class'].value_counts()\n",
        "# 0은 정상 거래데이터\n",
        "# 1은 사기 거래데이터\n",
        "# 사기거래데이터가 비정상적으로 적다."
      ],
      "metadata": {
        "id": "YFx6tdRxBe38",
        "colab": {
          "base_uri": "https://localhost:8080/"
        },
        "outputId": "ccad6af1-671d-4086-f334-101146797ef2"
      },
      "execution_count": null,
      "outputs": [
        {
          "output_type": "execute_result",
          "data": {
            "text/plain": [
              "0    284315\n",
              "1       492\n",
              "Name: Class, dtype: int64"
            ]
          },
          "metadata": {},
          "execution_count": 8
        }
      ]
    },
    {
      "cell_type": "code",
      "source": [
        "#기본 AI모델링을 통한 교차검증하기\n",
        "import pandas as pd\n",
        "import numpy as np\n",
        "import matplotlib.pyplot as plt\n",
        "import warnings\n",
        "warnings.filterwarnings('ignore')\n",
        "%matplotlib inline"
      ],
      "metadata": {
        "id": "WB0oXzt2BvCd"
      },
      "execution_count": null,
      "outputs": []
    },
    {
      "cell_type": "code",
      "source": [
        "#각각의 feature의 양식확인\n",
        "df.info()"
      ],
      "metadata": {
        "id": "IDgtW_NvDGEN",
        "colab": {
          "base_uri": "https://localhost:8080/"
        },
        "outputId": "285f5cdd-5526-43fd-df5f-126d7d8b5d44"
      },
      "execution_count": null,
      "outputs": [
        {
          "output_type": "stream",
          "name": "stdout",
          "text": [
            "<class 'pandas.core.frame.DataFrame'>\n",
            "RangeIndex: 284807 entries, 0 to 284806\n",
            "Data columns (total 31 columns):\n",
            " #   Column  Non-Null Count   Dtype  \n",
            "---  ------  --------------   -----  \n",
            " 0   Time    284807 non-null  float64\n",
            " 1   V1      284807 non-null  float64\n",
            " 2   V2      284807 non-null  float64\n",
            " 3   V3      284807 non-null  float64\n",
            " 4   V4      284807 non-null  float64\n",
            " 5   V5      284807 non-null  float64\n",
            " 6   V6      284807 non-null  float64\n",
            " 7   V7      284807 non-null  float64\n",
            " 8   V8      284807 non-null  float64\n",
            " 9   V9      284807 non-null  float64\n",
            " 10  V10     284807 non-null  float64\n",
            " 11  V11     284807 non-null  float64\n",
            " 12  V12     284807 non-null  float64\n",
            " 13  V13     284807 non-null  float64\n",
            " 14  V14     284807 non-null  float64\n",
            " 15  V15     284807 non-null  float64\n",
            " 16  V16     284807 non-null  float64\n",
            " 17  V17     284807 non-null  float64\n",
            " 18  V18     284807 non-null  float64\n",
            " 19  V19     284807 non-null  float64\n",
            " 20  V20     284807 non-null  float64\n",
            " 21  V21     284807 non-null  float64\n",
            " 22  V22     284807 non-null  float64\n",
            " 23  V23     284807 non-null  float64\n",
            " 24  V24     284807 non-null  float64\n",
            " 25  V25     284807 non-null  float64\n",
            " 26  V26     284807 non-null  float64\n",
            " 27  V27     284807 non-null  float64\n",
            " 28  V28     284807 non-null  float64\n",
            " 29  Amount  284807 non-null  float64\n",
            " 30  Class   284807 non-null  int64  \n",
            "dtypes: float64(30), int64(1)\n",
            "memory usage: 67.4 MB\n"
          ]
        }
      ]
    },
    {
      "cell_type": "code",
      "source": [
        "from sklearn.model_selection import train_test_split\n",
        "#인자로 입력받은 DataFrame을 복사한 뒤 Time 컬럼만 삭제하고 복사된 DataFrame을 반환\n",
        "\n",
        "def get_preprocessed_df(df=None):\n",
        "  df_copy = df.copy()\n",
        "  df_copy.drop('Time',axis=1,inplace=True)\n",
        "  return df_copy"
      ],
      "metadata": {
        "id": "Z4OjIDdmPh2G"
      },
      "execution_count": null,
      "outputs": []
    },
    {
      "cell_type": "code",
      "source": [
        "#사전 데이터를 가공하고, train & test 데이터 분리하는 함수 만들기\n",
        "\n",
        "def get_train_test_dataset(df=None):\n",
        "  df_copy = get_preprocessed_df(df)\n",
        "  #time을 뺀 나머지 컬럼정리(클래스제외)\n",
        "  X_feature = df_copy.iloc[:,:-1]\n",
        "  #클래스값(타겟값만)\n",
        "  y_target = df_copy.iloc[:,-1]\n",
        "\n",
        "  X_train,X_test,y_train,y_test = train_test_split(X_feature,y_target,test_size=0.3,random_state=0,stratify=y_target)\n",
        "  return X_train,X_test,y_train,y_test"
      ],
      "metadata": {
        "id": "WybD8meYP8MA"
      },
      "execution_count": null,
      "outputs": []
    },
    {
      "cell_type": "code",
      "source": [
        "#df 데이터를 학습용 검증용 데이터로 분할\n",
        "X_train,X_test,y_train,y_test = get_train_test_dataset(df)"
      ],
      "metadata": {
        "id": "2GH2cbhERXh9"
      },
      "execution_count": null,
      "outputs": []
    },
    {
      "cell_type": "code",
      "source": [
        "#학습용 데이터의 타겟값 비율 ( 0 - 정상데이터 / 1 - 사기데이터)\n",
        "print(y_train.value_counts())\n",
        "print(y_train.value_counts()/y_train.shape[0])\n",
        "print(y_train.shape)"
      ],
      "metadata": {
        "id": "fi11ovFRSDZa",
        "colab": {
          "base_uri": "https://localhost:8080/"
        },
        "outputId": "4832a3b2-fe1f-46e6-e908-54d4a3110a28"
      },
      "execution_count": null,
      "outputs": [
        {
          "output_type": "stream",
          "name": "stdout",
          "text": [
            "0    199020\n",
            "1       344\n",
            "Name: Class, dtype: int64\n",
            "0    0.998275\n",
            "1    0.001725\n",
            "Name: Class, dtype: float64\n",
            "(199364,)\n"
          ]
        }
      ]
    },
    {
      "cell_type": "code",
      "source": [
        "#검증용 데이터의 타겟값 비율 ( 0 - 정상데이터 / 1 - 사기데이터)\n",
        "print(y_test.value_counts())\n",
        "print(y_test.value_counts()/y_test.shape[0])\n",
        "print(y_test.shape)"
      ],
      "metadata": {
        "id": "JLV2KSIKSNLV",
        "colab": {
          "base_uri": "https://localhost:8080/"
        },
        "outputId": "66b2a1d5-a559-4388-9a21-79a7903055e0"
      },
      "execution_count": null,
      "outputs": [
        {
          "output_type": "stream",
          "name": "stdout",
          "text": [
            "0    85295\n",
            "1      148\n",
            "Name: Class, dtype: int64\n",
            "0    0.998268\n",
            "1    0.001732\n",
            "Name: Class, dtype: float64\n",
            "(85443,)\n"
          ]
        }
      ]
    },
    {
      "cell_type": "markdown",
      "source": [
        "![image.png](data:image/png;base64,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)"
      ],
      "metadata": {
        "id": "285qa6Fbdsn9"
      }
    },
    {
      "cell_type": "code",
      "source": [
        "#오차행렬 함수만들기\n",
        "# def get_clf_eval(y_test,pred,pred_proba):\n",
        "\n",
        "\n",
        "from sklearn.metrics import accuracy_score, precision_score, recall_score, confusion_matrix,f1_score,roc_auc_score\n",
        "\n",
        "def get_clf_eval(y_test, pred,pred_proba):\n",
        "    confusion = confusion_matrix(y_test, pred)\n",
        "    accuracy = accuracy_score(y_test, pred)\n",
        "    precision = precision_score(y_test, pred)\n",
        "    recall = recall_score(y_test, pred)\n",
        "    f1 = f1_score(y_test,pred)\n",
        "    roc_auc = roc_auc_score(y_test,pred_proba)\n",
        "    print('Confusion Matrix')\n",
        "    print(confusion)\n",
        "    print('정확도(accuracy):{0:4f}, 정밀도(precision):{1:4f}, 재현율(recall):{2:4f}, F1:{3:4f}, AUC:{4:4f}'.format(accuracy, precision, recall,f1,roc_auc))"
      ],
      "metadata": {
        "id": "9NuoDcdqSRSI"
      },
      "execution_count": null,
      "outputs": []
    },
    {
      "cell_type": "markdown",
      "source": [
        "## 3-1 데이터 가공 없이 분류모델만들기"
      ],
      "metadata": {
        "id": "1X1XNBtKfXWp"
      }
    },
    {
      "cell_type": "markdown",
      "source": [
        "### 데이터 가공 없이 분류모델만들기- DecisionTree"
      ],
      "metadata": {
        "id": "SjvU2lV6fphh"
      }
    },
    {
      "cell_type": "code",
      "source": [
        "#데이터 가공 없이 분류모델만들기 - DecisionTreeClassifier\n",
        "from sklearn.tree import DecisionTreeClassifier\n",
        "dtc_clf = DecisionTreeClassifier(random_state=0)\n",
        "dtc_clf.fit(X_train,y_train)\n",
        "dtc_pred = dtc_clf.predict(X_test)\n",
        "dtc_pred_proba = dtc_clf.predict_proba(X_test)[:,1] # 전체 데이터의 확률을 구하기 때문에 뒤에데이터가 확률이다\n",
        "get_clf_eval(y_test,dtc_pred,dtc_pred_proba)"
      ],
      "metadata": {
        "id": "jmy73yycfry3",
        "colab": {
          "base_uri": "https://localhost:8080/"
        },
        "outputId": "c640bdff-aa00-42bb-cb93-06d098f8021d"
      },
      "execution_count": null,
      "outputs": [
        {
          "output_type": "stream",
          "name": "stdout",
          "text": [
            "Confusion Matrix\n",
            "[[85265    30]\n",
            " [   37   111]]\n",
            "정확도(accuracy):0.999216, 정밀도(precision):0.787234, 재현율(recall):0.750000, F1:0.768166, AUC:0.874824\n"
          ]
        }
      ]
    },
    {
      "cell_type": "markdown",
      "source": [
        "\n",
        "\n",
        "\n",
        "### 데이터 가공 없이 분류모델만들기- LogisticRegression"
      ],
      "metadata": {
        "id": "xkbqsclQfaXE"
      }
    },
    {
      "cell_type": "code",
      "source": [
        "#데이터 가공 없이 분류모델만들기 - LogisticRegression\n",
        "from sklearn.linear_model import LogisticRegression\n",
        "lr_clf = LogisticRegression(max_iter=1000,random_state=0)\n",
        "lr_clf.fit(X_train,y_train)\n",
        "lr_pred = lr_clf.predict(X_test)\n",
        "lr_pred_proba = lr_clf.predict_proba(X_test)[:,1] # 전체 데이터의 확률을 구하기 때문에 뒤에데이터가 확률이다\n",
        "get_clf_eval(y_test,lr_pred,lr_pred_proba)"
      ],
      "metadata": {
        "id": "CSO38_E6C6yD",
        "colab": {
          "base_uri": "https://localhost:8080/"
        },
        "outputId": "8d693c90-5e03-432a-e7df-c2148b49228a"
      },
      "execution_count": null,
      "outputs": [
        {
          "output_type": "stream",
          "name": "stdout",
          "text": [
            "Confusion Matrix\n",
            "[[85280    15]\n",
            " [   56    92]]\n",
            "정확도(accuracy):0.999169, 정밀도(precision):0.859813, 재현율(recall):0.621622, F1:0.721569, AUC:0.970429\n"
          ]
        }
      ]
    },
    {
      "cell_type": "markdown",
      "source": [
        "### 데이터 가공 없이 분류모델만들기- LGBMClassifier"
      ],
      "metadata": {
        "id": "wJy7ENE8fg5c"
      }
    },
    {
      "cell_type": "code",
      "source": [
        "!pip install lightgbm\n",
        "#데이터 가공 없이 분류모델만들기 - LGBMClassifier\n",
        "from lightgbm import LGBMClassifier\n",
        "lgbm_clf = LGBMClassifier(n_estimators=1000,num_leaves=64,n_jobs=-1,boost_from_average=False,random_state=0)\n",
        "lgbm_clf.fit(X_train,y_train)\n",
        "lgbm_pred = lgbm_clf.predict(X_test)\n",
        "lgbm_pred_proba = lgbm_clf.predict_proba(X_test)[:,1] # 전체 데이터의 확률을 구하기 때문에 뒤에데이터가 확률이다\n",
        "get_clf_eval(y_test,lgbm_pred,lgbm_pred_proba)"
      ],
      "metadata": {
        "id": "a9-_rcHbYWpk",
        "colab": {
          "base_uri": "https://localhost:8080/"
        },
        "outputId": "6ed62af7-9ac5-40e4-b74e-460b7a628aa9"
      },
      "execution_count": null,
      "outputs": [
        {
          "output_type": "stream",
          "name": "stdout",
          "text": [
            "Looking in indexes: https://pypi.org/simple, https://us-python.pkg.dev/colab-wheels/public/simple/\n",
            "Requirement already satisfied: lightgbm in /usr/local/lib/python3.7/dist-packages (2.2.3)\n",
            "Requirement already satisfied: numpy in /usr/local/lib/python3.7/dist-packages (from lightgbm) (1.21.6)\n",
            "Requirement already satisfied: scipy in /usr/local/lib/python3.7/dist-packages (from lightgbm) (1.7.3)\n",
            "Requirement already satisfied: scikit-learn in /usr/local/lib/python3.7/dist-packages (from lightgbm) (1.0.2)\n",
            "Requirement already satisfied: threadpoolctl>=2.0.0 in /usr/local/lib/python3.7/dist-packages (from scikit-learn->lightgbm) (3.1.0)\n",
            "Requirement already satisfied: joblib>=0.11 in /usr/local/lib/python3.7/dist-packages (from scikit-learn->lightgbm) (1.2.0)\n",
            "Confusion Matrix\n",
            "[[85289     6]\n",
            " [   36   112]]\n",
            "정확도(accuracy):0.999508, 정밀도(precision):0.949153, 재현율(recall):0.756757, F1:0.842105, AUC:0.979659\n"
          ]
        }
      ]
    },
    {
      "cell_type": "markdown",
      "source": [],
      "metadata": {
        "id": "-XMXYo4qU9Im"
      }
    },
    {
      "cell_type": "markdown",
      "source": [
        "## 3-2 데이터 가공 후 분류 모델 만들기"
      ],
      "metadata": {
        "id": "vw2xTpaUh-yb"
      }
    },
    {
      "cell_type": "markdown",
      "source": [
        "### 데이터 가공하기(AMOUNT를 STANDARDSCALE 로 변환)"
      ],
      "metadata": {
        "id": "Fo1yggxHiMZ-"
      }
    },
    {
      "cell_type": "code",
      "source": [
        "df.columns"
      ],
      "metadata": {
        "id": "XtGTg3Efj0IJ",
        "colab": {
          "base_uri": "https://localhost:8080/"
        },
        "outputId": "b960009e-8204-4832-c956-04c91a15d962"
      },
      "execution_count": null,
      "outputs": [
        {
          "output_type": "execute_result",
          "data": {
            "text/plain": [
              "Index(['Time', 'V1', 'V2', 'V3', 'V4', 'V5', 'V6', 'V7', 'V8', 'V9', 'V10',\n",
              "       'V11', 'V12', 'V13', 'V14', 'V15', 'V16', 'V17', 'V18', 'V19', 'V20',\n",
              "       'V21', 'V22', 'V23', 'V24', 'V25', 'V26', 'V27', 'V28', 'Amount',\n",
              "       'Class'],\n",
              "      dtype='object')"
            ]
          },
          "metadata": {},
          "execution_count": 20
        }
      ]
    },
    {
      "cell_type": "code",
      "source": [
        "!pip install seaborn\n",
        "#데이터의 분포 확인하기\n",
        "import seaborn as sns\n",
        "\n",
        "plt.figure(figsize=(8,4))\n",
        "plt.xticks(range(0,30000,1000),rotation=60)\n",
        "sns.histplot(df['Amount'],bins=100,kde=True)\n",
        "plt.show()"
      ],
      "metadata": {
        "id": "fnf0vDddiTg0",
        "colab": {
          "base_uri": "https://localhost:8080/",
          "height": 541
        },
        "outputId": "0c6035ea-dbd2-4ac4-9318-03d5773e88f6"
      },
      "execution_count": null,
      "outputs": [
        {
          "output_type": "stream",
          "name": "stdout",
          "text": [
            "Looking in indexes: https://pypi.org/simple, https://us-python.pkg.dev/colab-wheels/public/simple/\n",
            "Requirement already satisfied: seaborn in /usr/local/lib/python3.7/dist-packages (0.11.2)\n",
            "Requirement already satisfied: matplotlib>=2.2 in /usr/local/lib/python3.7/dist-packages (from seaborn) (3.2.2)\n",
            "Requirement already satisfied: scipy>=1.0 in /usr/local/lib/python3.7/dist-packages (from seaborn) (1.7.3)\n",
            "Requirement already satisfied: pandas>=0.23 in /usr/local/lib/python3.7/dist-packages (from seaborn) (1.3.5)\n",
            "Requirement already satisfied: numpy>=1.15 in /usr/local/lib/python3.7/dist-packages (from seaborn) (1.21.6)\n",
            "Requirement already satisfied: kiwisolver>=1.0.1 in /usr/local/lib/python3.7/dist-packages (from matplotlib>=2.2->seaborn) (1.4.4)\n",
            "Requirement already satisfied: cycler>=0.10 in /usr/local/lib/python3.7/dist-packages (from matplotlib>=2.2->seaborn) (0.11.0)\n",
            "Requirement already satisfied: pyparsing!=2.0.4,!=2.1.2,!=2.1.6,>=2.0.1 in /usr/local/lib/python3.7/dist-packages (from matplotlib>=2.2->seaborn) (3.0.9)\n",
            "Requirement already satisfied: python-dateutil>=2.1 in /usr/local/lib/python3.7/dist-packages (from matplotlib>=2.2->seaborn) (2.8.2)\n",
            "Requirement already satisfied: typing-extensions in /usr/local/lib/python3.7/dist-packages (from kiwisolver>=1.0.1->matplotlib>=2.2->seaborn) (4.1.1)\n",
            "Requirement already satisfied: pytz>=2017.3 in /usr/local/lib/python3.7/dist-packages (from pandas>=0.23->seaborn) (2022.6)\n",
            "Requirement already satisfied: six>=1.5 in /usr/local/lib/python3.7/dist-packages (from python-dateutil>=2.1->matplotlib>=2.2->seaborn) (1.15.0)\n"
          ]
        },
        {
          "output_type": "display_data",
          "data": {
            "text/plain": [
              "<Figure size 576x288 with 1 Axes>"
            ],
            "image/png": "[encoded data removed]"
          },
          "metadata": {
            "needs_background": "light"
          }
        }
      ]
    },
    {
      "cell_type": "code",
      "source": [
        "#AMOUNT 컬럼을 정규분포로 변경하여 피처로 사용하기\n",
        "from sklearn.preprocessing import StandardScaler\n",
        "\n",
        "def get_preprocessed_df(df=None):\n",
        "  df_copy = df.copy()\n",
        "  scaler = StandardScaler()\n",
        "  amount_n = scaler.fit_transform(df_copy['Amount'].values.reshape(-1,1))\n",
        "  df_copy.insert(0,'Amount_Scaled',amount_n) #Amount_Scaled 열을 하나 만들어서 처음에 넣어주기\n",
        "  df_copy.drop(['Time','Amount'],axis=1,inplace=True) #Amount,Time 열을 삭제\n",
        "  return df_copy"
      ],
      "metadata": {
        "id": "GGs-2G-giRIF"
      },
      "execution_count": null,
      "outputs": []
    },
    {
      "cell_type": "code",
      "source": [
        "#변환된 데이터로 다시 train_test split 진행\n",
        "X_train,X_test,y_train,y_test = get_train_test_dataset(df)"
      ],
      "metadata": {
        "id": "idy8R0C1l-_C"
      },
      "execution_count": null,
      "outputs": []
    },
    {
      "cell_type": "code",
      "source": [
        "X_train['Amount_Scaled']"
      ],
      "metadata": {
        "id": "pQACOff9qtgz",
        "colab": {
          "base_uri": "https://localhost:8080/"
        },
        "outputId": "c391d50f-6e81-424d-a52a-a3f9edb79588"
      },
      "execution_count": null,
      "outputs": [
        {
          "output_type": "execute_result",
          "data": {
            "text/plain": [
              "211605   -0.350471\n",
              "231628   -0.131456\n",
              "110643   -0.307251\n",
              "11478    -0.313249\n",
              "243724    8.802588\n",
              "            ...   \n",
              "88290    -0.293938\n",
              "22346    -0.342914\n",
              "269968    2.637499\n",
              "175960    6.729380\n",
              "47973     0.413604\n",
              "Name: Amount_Scaled, Length: 199364, dtype: float64"
            ]
          },
          "metadata": {},
          "execution_count": 24
        }
      ]
    },
    {
      "cell_type": "markdown",
      "source": [
        "#### 데이터 가공 후 분류모델만들기-Decision Tree"
      ],
      "metadata": {
        "id": "nK0NchaNo2qX"
      }
    },
    {
      "cell_type": "code",
      "source": [
        "#데이터 가공 없이 분류모델만들기 - LogisticRegression\n",
        "# from sklearn import DecisionTreeClassifier\n",
        "from sklearn.tree import DecisionTreeClassifier\n",
        "\n",
        "dtc_clf = DecisionTreeClassifier()\n",
        "dtc_clf.fit(X_train,y_train)\n",
        "dtc_pred = dtc_clf.predict(X_test)\n",
        "dtc_pred_proba = dtc_clf.predict_proba(X_test)[:,1] # 전체 데이터의 확률을 구하기 때문에 뒤에데이터가 확률이다\n",
        "get_clf_eval(y_test,dtc_pred,dtc_pred_proba)\n",
        "\n",
        "\n",
        "# Confusion Matrix\n",
        "# [[85268    27]\n",
        "#  [   37   111]]\n",
        "# 정확도:0.999251, 정밀도:0.804348, 재현율:0.750000, F1:0.776224, AUC:0.874842"
      ],
      "metadata": {
        "id": "eEqQEV3Spcot",
        "colab": {
          "base_uri": "https://localhost:8080/"
        },
        "outputId": "5cf8da50-30fa-4def-d7da-892bad98b742"
      },
      "execution_count": null,
      "outputs": [
        {
          "output_type": "stream",
          "name": "stdout",
          "text": [
            "Confusion Matrix\n",
            "[[85266    29]\n",
            " [   38   110]]\n",
            "정확도(accuracy):0.999216, 정밀도(precision):0.791367, 재현율(recall):0.743243, F1:0.766551, AUC:0.871452\n"
          ]
        }
      ]
    },
    {
      "cell_type": "markdown",
      "source": [],
      "metadata": {
        "id": "_spfOAcwmCwI"
      }
    },
    {
      "cell_type": "markdown",
      "source": [
        "#### 데이터 가공 후 분류모델만들기-LogisticRegression"
      ],
      "metadata": {
        "id": "D9jD17A7peCm"
      }
    },
    {
      "cell_type": "code",
      "source": [
        "#데이터 가공 없이 분류모델만들기 - LogisticRegression\n",
        "from sklearn.linear_model import LogisticRegression\n",
        "\n",
        "lr_clf = LogisticRegression(max_iter=1000)\n",
        "lr_clf.fit(X_train,y_train)\n",
        "lr_pred = lr_clf.predict(X_test)\n",
        "lr_pred_proba = lr_clf.predict_proba(X_test)[:,1] # 전체 데이터의 확률을 구하기 때문에 뒤에데이터가 확률이다\n",
        "get_clf_eval(y_test,lr_pred,lr_pred_proba)\n",
        "\n",
        "# Confusion Matrix\n",
        "# [[85280    15]\n",
        "#  [   56    92]]\n",
        "# 정확도:0.999169, 정밀도:0.859813, 재현율:0.621622, F1:0.721569, AUC:0.970429"
      ],
      "metadata": {
        "id": "yXH5OJ7EpeCn",
        "colab": {
          "base_uri": "https://localhost:8080/"
        },
        "outputId": "1ace74af-9af4-4eb1-f0be-5c28f75316b6"
      },
      "execution_count": null,
      "outputs": [
        {
          "output_type": "stream",
          "name": "stdout",
          "text": [
            "Confusion Matrix\n",
            "[[85281    14]\n",
            " [   58    90]]\n",
            "정확도(accuracy):0.999157, 정밀도(precision):0.865385, 재현율(recall):0.608108, F1:0.714286, AUC:0.970227\n"
          ]
        }
      ]
    },
    {
      "cell_type": "markdown",
      "source": [],
      "metadata": {
        "id": "2cVrIeJ1peCn"
      }
    },
    {
      "cell_type": "markdown",
      "source": [
        "#### 데이터 가공 후 분류모델만들기-LGBMClassifier"
      ],
      "metadata": {
        "id": "hdEnsr7KpeFO"
      }
    },
    {
      "cell_type": "code",
      "source": [
        "#데이터 가공 없이 분류모델만들기 - LGBMClassifier\n",
        "from lightgbm import LGBMClassifier\n",
        "\n",
        "lgbm_clf = LGBMClassifier(n_estimators=1000,num_leaves=64,n_jobs=-1,boost_from_average=False)\n",
        "lgbm_clf.fit(X_train,y_train)\n",
        "lgbm_pred = lgbm_clf.predict(X_test)\n",
        "lgbm_pred_proba = lgbm_clf.predict_proba(X_test)[:,1] # 전체 데이터의 확률을 구하기 때문에 뒤에데이터가 확률이다\n",
        "get_clf_eval(y_test,lgbm_pred,lgbm_pred_proba)\n",
        "\n",
        "# Confusion Matrix\n",
        "# [[85289     6]\n",
        "#  [   36   112]]\n",
        "# 정확도:0.999508, 정밀도:0.949153, 재현율:0.756757, F1:0.842105, AUC:0.979659"
      ],
      "metadata": {
        "id": "reXDUza9pjsX",
        "colab": {
          "base_uri": "https://localhost:8080/"
        },
        "outputId": "61edb41e-6270-43ff-a6df-29fc4dd8f837"
      },
      "execution_count": null,
      "outputs": [
        {
          "output_type": "stream",
          "name": "stdout",
          "text": [
            "Confusion Matrix\n",
            "[[85289     6]\n",
            " [   36   112]]\n",
            "정확도(accuracy):0.999508, 정밀도(precision):0.949153, 재현율(recall):0.756757, F1:0.842105, AUC:0.977290\n"
          ]
        }
      ]
    },
    {
      "cell_type": "markdown",
      "source": [
        "### 데이터 가공하기(AMOUNT를 LOG변환하기)"
      ],
      "metadata": {
        "id": "9spWu8a8wpKX"
      }
    },
    {
      "cell_type": "code",
      "source": [
        "df.columns"
      ],
      "metadata": {
        "id": "PXgBOzk2ww9K",
        "colab": {
          "base_uri": "https://localhost:8080/"
        },
        "outputId": "070c85bc-6b21-4d2f-81b4-a12dff5089e2"
      },
      "execution_count": null,
      "outputs": [
        {
          "output_type": "execute_result",
          "data": {
            "text/plain": [
              "Index(['Time', 'V1', 'V2', 'V3', 'V4', 'V5', 'V6', 'V7', 'V8', 'V9', 'V10',\n",
              "       'V11', 'V12', 'V13', 'V14', 'V15', 'V16', 'V17', 'V18', 'V19', 'V20',\n",
              "       'V21', 'V22', 'V23', 'V24', 'V25', 'V26', 'V27', 'V28', 'Amount',\n",
              "       'Class'],\n",
              "      dtype='object')"
            ]
          },
          "metadata": {},
          "execution_count": 28
        }
      ]
    },
    {
      "cell_type": "code",
      "source": [
        "#AMOUNT 컬럼을 log로 변경하여 피처로 사용하기\n",
        "\n",
        "def get_preprocessed_df(df=None):\n",
        "  df_copy = df.copy()\n",
        "  amount_n = np.log1p(df_copy['Amount'])\n",
        "  df_copy.insert(0,'Amount_Scaled',amount_n) #Amount_Scaled 열을 하나 만들어서 처음에 넣어주기\n",
        "  df_copy.drop(['Time','Amount'],axis=1,inplace=True) #Amount,Time 열을 삭제\n",
        "  return df_copy"
      ],
      "metadata": {
        "id": "fOj3owLuww9L"
      },
      "execution_count": null,
      "outputs": []
    },
    {
      "cell_type": "code",
      "source": [
        "#변환된 데이터로 다시 train_test split 진행\n",
        "X_train,X_test,y_train,y_test = get_train_test_dataset(df)"
      ],
      "metadata": {
        "id": "Y9w2XMsIww9L"
      },
      "execution_count": null,
      "outputs": []
    },
    {
      "cell_type": "code",
      "source": [
        "X_train['Amount_Scaled']"
      ],
      "metadata": {
        "id": "bmgtWbOgww9L",
        "colab": {
          "base_uri": "https://localhost:8080/"
        },
        "outputId": "23ee9fa3-eaad-4ad3-a1a4-a53e70686556"
      },
      "execution_count": null,
      "outputs": [
        {
          "output_type": "execute_result",
          "data": {
            "text/plain": [
              "211605    0.524729\n",
              "231628    4.033710\n",
              "110643    2.525729\n",
              "11478     2.397895\n",
              "243724    7.736766\n",
              "            ...   \n",
              "88290     2.761907\n",
              "22346     1.275363\n",
              "269968    6.618792\n",
              "175960    7.480146\n",
              "47973     5.261653\n",
              "Name: Amount_Scaled, Length: 199364, dtype: float64"
            ]
          },
          "metadata": {},
          "execution_count": 31
        }
      ]
    },
    {
      "cell_type": "markdown",
      "source": [
        "#### 데이터 가공 후 분류모델만들기-Decision Tree"
      ],
      "metadata": {
        "id": "z5HTl5s-ww9L"
      }
    },
    {
      "cell_type": "code",
      "source": [
        "#데이터 가공 없이 분류모델만들기 - LogisticRegression\n",
        "# from sklearn import DecisionTreeClassifier\n",
        "from sklearn.tree import DecisionTreeClassifier\n",
        "\n",
        "dtc_clf = DecisionTreeClassifier()\n",
        "dtc_clf.fit(X_train,y_train)\n",
        "dtc_pred = dtc_clf.predict(X_test)\n",
        "dtc_pred_proba = dtc_clf.predict_proba(X_test)[:,1] # 전체 데이터의 확률을 구하기 때문에 뒤에데이터가 확률이다\n",
        "get_clf_eval(y_test,dtc_pred,dtc_pred_proba)\n",
        "\n",
        "\n",
        "# Confusion Matrix\n",
        "# [[85268    27]\n",
        "#  [   37   111]]\n",
        "# 정확도:0.999251, 정밀도:0.804348, 재현율:0.750000, F1:0.776224, AUC:0.874842"
      ],
      "metadata": {
        "id": "uySuPkoyww9L",
        "colab": {
          "base_uri": "https://localhost:8080/"
        },
        "outputId": "0d30385e-5978-4238-b9a8-e04d91ab9dfe"
      },
      "execution_count": null,
      "outputs": [
        {
          "output_type": "stream",
          "name": "stdout",
          "text": [
            "Confusion Matrix\n",
            "[[85267    28]\n",
            " [   39   109]]\n",
            "정확도(accuracy):0.999216, 정밀도(precision):0.795620, 재현율(recall):0.736486, F1:0.764912, AUC:0.868079\n"
          ]
        }
      ]
    },
    {
      "cell_type": "markdown",
      "source": [],
      "metadata": {
        "id": "XIHqAJFoww9L"
      }
    },
    {
      "cell_type": "markdown",
      "source": [
        "#### 데이터 가공 후 분류모델만들기-LogisticRegression"
      ],
      "metadata": {
        "id": "OhgNX5ddww9L"
      }
    },
    {
      "cell_type": "code",
      "source": [
        "#데이터 가공 없이 분류모델만들기 - LogisticRegression\n",
        "from sklearn.linear_model import LogisticRegression\n",
        "\n",
        "lr_clf = LogisticRegression(max_iter=1000)\n",
        "lr_clf.fit(X_train,y_train)\n",
        "lr_pred = lr_clf.predict(X_test)\n",
        "lr_pred_proba = lr_clf.predict_proba(X_test)[:,1] # 전체 데이터의 확률을 구하기 때문에 뒤에데이터가 확률이다\n",
        "get_clf_eval(y_test,lr_pred,lr_pred_proba)\n",
        "\n",
        "# Confusion Matrix\n",
        "# [[85280    15]\n",
        "#  [   56    92]]\n",
        "# 정확도:0.999169, 정밀도:0.859813, 재현율:0.621622, F1:0.721569, AUC:0.970429"
      ],
      "metadata": {
        "id": "vFZLwObPww9L",
        "colab": {
          "base_uri": "https://localhost:8080/"
        },
        "outputId": "86a0182a-38a3-411d-dfe1-bf0fd0e04b5f"
      },
      "execution_count": null,
      "outputs": [
        {
          "output_type": "stream",
          "name": "stdout",
          "text": [
            "Confusion Matrix\n",
            "[[85283    12]\n",
            " [   59    89]]\n",
            "정확도(accuracy):0.999169, 정밀도(precision):0.881188, 재현율(recall):0.601351, F1:0.714859, AUC:0.972683\n"
          ]
        }
      ]
    },
    {
      "cell_type": "markdown",
      "source": [],
      "metadata": {
        "id": "7VGHx-QEww9M"
      }
    },
    {
      "cell_type": "markdown",
      "source": [
        "#### 데이터 가공 후 분류모델만들기-LGBMClassifier"
      ],
      "metadata": {
        "id": "mD0O_OXlww9M"
      }
    },
    {
      "cell_type": "code",
      "source": [
        "#데이터 가공 없이 분류모델만들기 - LGBMClassifier\n",
        "from lightgbm import LGBMClassifier\n",
        "\n",
        "lgbm_clf = LGBMClassifier(n_estimators=1000,num_leaves=64,n_jobs=-1,boost_from_average=False)\n",
        "lgbm_clf.fit(X_train,y_train)\n",
        "lgbm_pred = lgbm_clf.predict(X_test)\n",
        "lgbm_pred_proba = lgbm_clf.predict_proba(X_test)[:,1] # 전체 데이터의 확률을 구하기 때문에 뒤에데이터가 확률이다\n",
        "get_clf_eval(y_test,lgbm_pred,lgbm_pred_proba)\n",
        "\n",
        "# Confusion Matrix\n",
        "# [[85289     6]\n",
        "#  [   36   112]]\n",
        "# 정확도:0.999508, 정밀도:0.949153, 재현율:0.756757, F1:0.842105, AUC:0.979659"
      ],
      "metadata": {
        "id": "dVvduP03ww9M",
        "colab": {
          "base_uri": "https://localhost:8080/"
        },
        "outputId": "945d35d9-0306-40f7-8392-7be1c1a6d569"
      },
      "execution_count": null,
      "outputs": [
        {
          "output_type": "stream",
          "name": "stdout",
          "text": [
            "Confusion Matrix\n",
            "[[85290     5]\n",
            " [   35   113]]\n",
            "정확도(accuracy):0.999532, 정밀도(precision):0.957627, 재현율(recall):0.763514, F1:0.849624, AUC:0.978552\n"
          ]
        }
      ]
    },
    {
      "cell_type": "code",
      "source": [],
      "metadata": {
        "id": "TgpxM7Veww9M"
      },
      "execution_count": null,
      "outputs": []
    },
    {
      "cell_type": "code",
      "source": [],
      "metadata": {
        "id": "Y1FL7i3Eww9M"
      },
      "execution_count": null,
      "outputs": []
    },
    {
      "cell_type": "markdown",
      "source": [
        "### 데이터 가공하기(AMOUNT를 이상치데이터 제거)"
      ],
      "metadata": {
        "id": "cQWY0G6pww9M"
      }
    },
    {
      "cell_type": "code",
      "source": [
        "import seaborn as sns\n",
        "plt.figure(figsize=(9,9))\n",
        "corr = df.corr()\n",
        "sns.heatmap(corr,cmap='RdBu')"
      ],
      "metadata": {
        "id": "Gm2bU55XyCFz",
        "colab": {
          "base_uri": "https://localhost:8080/"
        },
        "outputId": "d498469d-2f4e-4aac-be12-ba1cf5e03778"
      },
      "execution_count": null,
      "outputs": [
        {
          "output_type": "execute_result",
          "data": {
            "text/plain": [
              "<matplotlib.axes._subplots.AxesSubplot at 0x7f2cb51373d0>"
            ]
          },
          "metadata": {},
          "execution_count": 35
        },
        {
          "output_type": "display_data",
          "data": {
            "text/plain": [
              "<Figure size 648x648 with 2 Axes>"
            ],
            "image/png": "[encoded data removed]"
          },
          "metadata": {
            "needs_background": "light"
          }
        }
      ]
    },
    {
      "cell_type": "code",
      "source": [
        "#상관관께를 조회해보고 가장 영향력이 큰 V17의 이상치를 제거해보겠다.\n",
        "corr['Class'].sort_values()"
      ],
      "metadata": {
        "id": "q3_pTdQVyKUo",
        "colab": {
          "base_uri": "https://localhost:8080/"
        },
        "outputId": "f9cfb825-8c4a-4239-f8c0-ccf80a1c8710"
      },
      "execution_count": null,
      "outputs": [
        {
          "output_type": "execute_result",
          "data": {
            "text/plain": [
              "V17      -0.326481\n",
              "V14      -0.302544\n",
              "V12      -0.260593\n",
              "V10      -0.216883\n",
              "V16      -0.196539\n",
              "V3       -0.192961\n",
              "V7       -0.187257\n",
              "V18      -0.111485\n",
              "V1       -0.101347\n",
              "V9       -0.097733\n",
              "V5       -0.094974\n",
              "V6       -0.043643\n",
              "Time     -0.012323\n",
              "V24      -0.007221\n",
              "V13      -0.004570\n",
              "V15      -0.004223\n",
              "V23      -0.002685\n",
              "V22       0.000805\n",
              "V25       0.003308\n",
              "V26       0.004455\n",
              "Amount    0.005632\n",
              "V28       0.009536\n",
              "V27       0.017580\n",
              "V8        0.019875\n",
              "V20       0.020090\n",
              "V19       0.034783\n",
              "V21       0.040413\n",
              "V2        0.091289\n",
              "V4        0.133447\n",
              "V11       0.154876\n",
              "Class     1.000000\n",
              "Name: Class, dtype: float64"
            ]
          },
          "metadata": {},
          "execution_count": 36
        }
      ]
    },
    {
      "cell_type": "code",
      "source": [
        "import numpy as np\n",
        "def get_outlier(df=None,column=None,weight=1.5):\n",
        "  df_copy = df.copy()\n",
        "  fraud = df[df['Class']==1][column]\n",
        "  quantile_25 = np.percentile(fraud.values,25)\n",
        "  quantile_75 = np.percentile(fraud.values,75)\n",
        "  iqr = quantile_75-quantile_25\n",
        "  iqr_weight = iqr * weight\n",
        "  lowest_val = quantile_25 - iqr_weight\n",
        "  highest_val = quantile_75 + iqr_weight\n",
        "  outlier_index = fraud[(fraud<lowest_val)|(fraud>highest_val)].index\n",
        "  return outlier_index\n"
      ],
      "metadata": {
        "id": "3ptMF0o4BjYP"
      },
      "execution_count": null,
      "outputs": []
    },
    {
      "cell_type": "code",
      "source": [
        "get_outlier(df=df,column='V17',weight=1)"
      ],
      "metadata": {
        "id": "WWyb2edm8DYG",
        "colab": {
          "base_uri": "https://localhost:8080/"
        },
        "outputId": "4725d263-ffe4-4f24-f889-ded438750c85"
      },
      "execution_count": null,
      "outputs": [
        {
          "output_type": "execute_result",
          "data": {
            "text/plain": [
              "Int64Index([42473, 42528, 42609, 42635, 42674, 42856, 150665], dtype='int64')"
            ]
          },
          "metadata": {},
          "execution_count": 38
        }
      ]
    },
    {
      "cell_type": "code",
      "source": [
        "\n",
        "def get_preprocessed_df(df=None):\n",
        "  df_copy = df.copy()\n",
        "  amount_n = np.log1p(df_copy['Amount'])\n",
        "  df_copy.insert(0,'Amount_Scaled',amount_n) #Amount_Scaled 열을 하나 만들어서 처음에 넣어주기\n",
        "  df_copy.drop(['Time','Amount'],axis=1,inplace=True) #Amount,Time 열을 삭제\n",
        "  outlier_index = get_outlier(df=df_copy, column='V17',weight =1)\n",
        "  df_copy.drop(outlier_index,axis=0,inplace=True)\n",
        "  return df_copy"
      ],
      "metadata": {
        "id": "WlDZ5Qn0EPMn"
      },
      "execution_count": null,
      "outputs": []
    },
    {
      "cell_type": "code",
      "source": [],
      "metadata": {
        "id": "hnpwLfgRwxSj"
      },
      "execution_count": null,
      "outputs": []
    },
    {
      "cell_type": "code",
      "source": [
        "#변환된 데이터로 다시 train_test split 진행\n",
        "X_train,X_test,y_train,y_test = get_train_test_dataset(df)"
      ],
      "metadata": {
        "id": "2skbclEKwxSj"
      },
      "execution_count": null,
      "outputs": []
    },
    {
      "cell_type": "code",
      "source": [
        "X_train['Amount_Scaled']"
      ],
      "metadata": {
        "id": "xtnHTEZ8wxSj",
        "colab": {
          "base_uri": "https://localhost:8080/"
        },
        "outputId": "9f847acf-ba6d-4ec0-a7d2-3e137d478391"
      },
      "execution_count": null,
      "outputs": [
        {
          "output_type": "execute_result",
          "data": {
            "text/plain": [
              "211605    0.524729\n",
              "36491     4.473922\n",
              "279521    1.305626\n",
              "11478     2.397895\n",
              "51391     3.365916\n",
              "            ...   \n",
              "88290     2.761907\n",
              "22346     1.275363\n",
              "269968    6.618792\n",
              "175960    7.480146\n",
              "47973     5.261653\n",
              "Name: Amount_Scaled, Length: 199360, dtype: float64"
            ]
          },
          "metadata": {},
          "execution_count": 41
        }
      ]
    },
    {
      "cell_type": "markdown",
      "source": [
        "#### 데이터 가공 후 분류모델만들기-Decision Tree"
      ],
      "metadata": {
        "id": "AoDHS_gvwxSj"
      }
    },
    {
      "cell_type": "code",
      "source": [
        "#데이터 가공 없이 분류모델만들기 - LogisticRegression\n",
        "# from sklearn import DecisionTreeClassifier\n",
        "from sklearn.tree import DecisionTreeClassifier\n",
        "\n",
        "dtc_clf = DecisionTreeClassifier()\n",
        "dtc_clf.fit(X_train,y_train)\n",
        "dtc_pred = dtc_clf.predict(X_test)\n",
        "dtc_pred_proba = dtc_clf.predict_proba(X_test)[:,1] # 전체 데이터의 확률을 구하기 때문에 뒤에데이터가 확률이다\n",
        "get_clf_eval(y_test,dtc_pred,dtc_pred_proba)\n",
        "\n",
        "\n",
        "# Confusion Matrix\n",
        "# [[85268    27]\n",
        "#  [   37   111]]\n",
        "# 정확도:0.999251, 정밀도:0.804348, 재현율:0.750000, F1:0.776224, AUC:0.874842\n",
        "\n",
        "#v14 일때\n",
        "# Confusion Matrix\n",
        "# [[85259    36]\n",
        "#  [   34   112]]\n",
        "# 정확도:0.999181, 정밀도:0.756757, 재현율:0.767123, F1:0.761905, AUC:0.883351"
      ],
      "metadata": {
        "id": "S4ac9n5twxSj",
        "colab": {
          "base_uri": "https://localhost:8080/"
        },
        "outputId": "3db3ec24-209f-4a6b-b734-a37effb70c7b"
      },
      "execution_count": null,
      "outputs": [
        {
          "output_type": "stream",
          "name": "stdout",
          "text": [
            "Confusion Matrix\n",
            "[[85258    37]\n",
            " [   40   105]]\n",
            "정확도(accuracy):0.999099, 정밀도(precision):0.739437, 재현율(recall):0.724138, F1:0.731707, AUC:0.861852\n"
          ]
        }
      ]
    },
    {
      "cell_type": "markdown",
      "source": [],
      "metadata": {
        "id": "X84truE2wxSj"
      }
    },
    {
      "cell_type": "markdown",
      "source": [
        "#### 데이터 가공 후 분류모델만들기-LogisticRegression"
      ],
      "metadata": {
        "id": "kyFWQc9swxSj"
      }
    },
    {
      "cell_type": "code",
      "source": [
        "#데이터 가공 없이 분류모델만들기 - LogisticRegression\n",
        "from sklearn.linear_model import LogisticRegression\n",
        "\n",
        "lr_clf = LogisticRegression(max_iter=1000)\n",
        "lr_clf.fit(X_train,y_train)\n",
        "lr_pred = lr_clf.predict(X_test)\n",
        "lr_pred_proba = lr_clf.predict_proba(X_test)[:,1] # 전체 데이터의 확률을 구하기 때문에 뒤에데이터가 확률이다\n",
        "get_clf_eval(y_test,lr_pred,lr_pred_proba)\n",
        "\n",
        "# Confusion Matrix\n",
        "# [[85281    14]\n",
        "#  [   58    90]]\n",
        "# 정확도:0.999157, 정밀도:0.865385, 재현율:0.608108, F1:0.714286, AUC:0.970227\n",
        "\n",
        "#v14일때\n",
        "# Confusion Matrix\n",
        "# [[85281    14]\n",
        "#  [   48    98]]\n",
        "# 정확도:0.999274, 정밀도:0.875000, 재현율:0.671233, F1:0.759690, AUC:0.974272"
      ],
      "metadata": {
        "id": "xvAINhEWwxSj",
        "colab": {
          "base_uri": "https://localhost:8080/"
        },
        "outputId": "2b92ebb2-2b6b-4e06-abb2-e5a8a8f43bc1"
      },
      "execution_count": null,
      "outputs": [
        {
          "output_type": "stream",
          "name": "stdout",
          "text": [
            "Confusion Matrix\n",
            "[[85280    15]\n",
            " [   53    92]]\n",
            "정확도(accuracy):0.999204, 정밀도(precision):0.859813, 재현율(recall):0.634483, F1:0.730159, AUC:0.960774\n"
          ]
        }
      ]
    },
    {
      "cell_type": "markdown",
      "source": [],
      "metadata": {
        "id": "5wDytpa3wxSj"
      }
    },
    {
      "cell_type": "markdown",
      "source": [
        "#### 데이터 가공 후 분류모델만들기-LGBMClassifier"
      ],
      "metadata": {
        "id": "9gr-pSTywxSj"
      }
    },
    {
      "cell_type": "code",
      "source": [
        "#데이터 가공 없이 분류모델만들기 - LGBMClassifier\n",
        "from lightgbm import LGBMClassifier\n",
        "\n",
        "lgbm_clf = LGBMClassifier(n_estimators=1000,num_leaves=64,n_jobs=-1,boost_from_average=False)\n",
        "lgbm_clf.fit(X_train,y_train)\n",
        "lgbm_pred = lgbm_clf.predict(X_test)\n",
        "lgbm_pred_proba = lgbm_clf.predict_proba(X_test)[:,1] # 전체 데이터의 확률을 구하기 때문에 뒤에데이터가 확률이다\n",
        "get_clf_eval(y_test,lgbm_pred,lgbm_pred_proba)\n",
        "\n",
        "# Confusion Matrix\n",
        "# [[85289     6]\n",
        "#  [   36   112]]\n",
        "# 정확도:0.999508, 정밀도:0.949153, 재현율:0.756757, F1:0.842105, AUC:0.977290\n",
        "\n",
        "#v14일떄\n",
        "# Confusion Matrix\n",
        "# [[85291     4]\n",
        "#  [   25   121]]\n",
        "# 정확도:0.999661, 정밀도:0.968000, 재현율:0.828767, F1:0.892989, AUC:0.983070"
      ],
      "metadata": {
        "id": "QLgmy_KowxSj",
        "colab": {
          "base_uri": "https://localhost:8080/"
        },
        "outputId": "225d465c-f963-4d42-bdba-602cc671fd30"
      },
      "execution_count": null,
      "outputs": [
        {
          "output_type": "stream",
          "name": "stdout",
          "text": [
            "Confusion Matrix\n",
            "[[85290     5]\n",
            " [   32   113]]\n",
            "정확도(accuracy):0.999567, 정밀도(precision):0.957627, 재현율(recall):0.779310, F1:0.859316, AUC:0.977640\n"
          ]
        }
      ]
    },
    {
      "cell_type": "code",
      "source": [],
      "metadata": {
        "id": "lHNJjOK4wxSk"
      },
      "execution_count": null,
      "outputs": []
    },
    {
      "cell_type": "code",
      "source": [],
      "metadata": {
        "id": "_x81YHhawxSk"
      },
      "execution_count": null,
      "outputs": []
    },
    {
      "cell_type": "code",
      "source": [],
      "metadata": {
        "id": "A6pcUrE4c2xc"
      },
      "execution_count": null,
      "outputs": []
    },
    {
      "cell_type": "markdown",
      "source": [
        "### 데이터 가공하기(SMOTE 기법을 활용한 오버샘플링)"
      ],
      "metadata": {
        "id": "7wadGzLYwxSk"
      }
    },
    {
      "cell_type": "code",
      "source": [
        "!pip install imblearn\n",
        "from imblearn.over_sampling import SMOTE\n",
        "#smote 기법 적용, 전체비율을 20% 수준으로 업그레이드\n",
        "smote = SMOTE(sampling_strategy=0.2,random_state=0)\n",
        "X_train_over, y_train_over = smote.fit_resample(X_train,y_train) # y_train의 타겟값을 기반으로, X_train데이터와 y_train데이터를 증식, y_train값이 1:1이 되게 증식"
      ],
      "metadata": {
        "id": "07ElQXg5Ux6o",
        "colab": {
          "base_uri": "https://localhost:8080/"
        },
        "outputId": "fe392fdb-76bd-4268-fe0a-5ff9df899b8b"
      },
      "execution_count": null,
      "outputs": [
        {
          "output_type": "stream",
          "name": "stdout",
          "text": [
            "Looking in indexes: https://pypi.org/simple, https://us-python.pkg.dev/colab-wheels/public/simple/\n",
            "Requirement already satisfied: imblearn in /usr/local/lib/python3.7/dist-packages (0.0)\n",
            "Requirement already satisfied: imbalanced-learn in /usr/local/lib/python3.7/dist-packages (from imblearn) (0.8.1)\n",
            "Requirement already satisfied: scikit-learn>=0.24 in /usr/local/lib/python3.7/dist-packages (from imbalanced-learn->imblearn) (1.0.2)\n",
            "Requirement already satisfied: joblib>=0.11 in /usr/local/lib/python3.7/dist-packages (from imbalanced-learn->imblearn) (1.2.0)\n",
            "Requirement already satisfied: numpy>=1.13.3 in /usr/local/lib/python3.7/dist-packages (from imbalanced-learn->imblearn) (1.21.6)\n",
            "Requirement already satisfied: scipy>=0.19.1 in /usr/local/lib/python3.7/dist-packages (from imbalanced-learn->imblearn) (1.7.3)\n",
            "Requirement already satisfied: threadpoolctl>=2.0.0 in /usr/local/lib/python3.7/dist-packages (from scikit-learn>=0.24->imbalanced-learn->imblearn) (3.1.0)\n"
          ]
        }
      ]
    },
    {
      "cell_type": "code",
      "source": [
        "#기존의 X_train,y_train 의 개수\n",
        "print(X_train.shape)\n",
        "print(y_train.shape)\n",
        "print(y_train.value_counts())"
      ],
      "metadata": {
        "id": "WAPNS83UXoS7",
        "colab": {
          "base_uri": "https://localhost:8080/"
        },
        "outputId": "6f0c5a1f-05d9-4d9d-ec8a-df92b045916f"
      },
      "execution_count": null,
      "outputs": [
        {
          "output_type": "stream",
          "name": "stdout",
          "text": [
            "(199360, 29)\n",
            "(199360,)\n",
            "0    199020\n",
            "1       340\n",
            "Name: Class, dtype: int64\n"
          ]
        }
      ]
    },
    {
      "cell_type": "code",
      "source": [
        "print(X_train_over.shape)\n",
        "print(y_train_over.shape)\n",
        "print(y_train_over.value_counts())"
      ],
      "metadata": {
        "id": "VumR2j55u4G9",
        "colab": {
          "base_uri": "https://localhost:8080/"
        },
        "outputId": "c5f5b7e7-9c05-4a63-d23d-e37f8da3ec28"
      },
      "execution_count": null,
      "outputs": [
        {
          "output_type": "stream",
          "name": "stdout",
          "text": [
            "(238824, 29)\n",
            "(238824,)\n",
            "0    199020\n",
            "1     39804\n",
            "Name: Class, dtype: int64\n"
          ]
        }
      ]
    },
    {
      "cell_type": "markdown",
      "source": [
        "#### 데이터 가공 후 분류모델만들기-Decision Tree"
      ],
      "metadata": {
        "id": "fANHeOlNc5dp"
      }
    },
    {
      "cell_type": "code",
      "source": [
        "#SMOTE기법 후 분류모델만들기 - DecisionTreeClassifier\n",
        "from sklearn.tree import DecisionTreeClassifier\n",
        "dtc_clf = DecisionTreeClassifier()\n",
        "dtc_clf.fit(X_train_over,y_train_over)\n",
        "dtc_pred = dtc_clf.predict(X_test)\n",
        "dtc_pred_proba = dtc_clf.predict_proba(X_test)[:,1] # 전체 데이터의 확률을 구하기 때문에 뒤에데이터가 확률이다\n",
        "get_clf_eval(y_test,dtc_pred,dtc_pred_proba)"
      ],
      "metadata": {
        "id": "eCSzyMdxc5dp",
        "colab": {
          "base_uri": "https://localhost:8080/"
        },
        "outputId": "37d1cdef-d332-403b-b3d4-38f8912a5797"
      },
      "execution_count": null,
      "outputs": [
        {
          "output_type": "stream",
          "name": "stdout",
          "text": [
            "Confusion Matrix\n",
            "[[85129   166]\n",
            " [   32   113]]\n",
            "정확도(accuracy):0.997683, 정밀도(precision):0.405018, 재현율(recall):0.779310, F1:0.533019, AUC:0.888682\n"
          ]
        }
      ]
    },
    {
      "cell_type": "markdown",
      "source": [
        "#### 데이터 가공 후 분류모델만들기-LogisticRegression"
      ],
      "metadata": {
        "id": "yFGEYEM1c5dq"
      }
    },
    {
      "cell_type": "code",
      "source": [
        "#SMOTE기법 후 분류모델만들기 - LogisticRegression\n",
        "from sklearn.linear_model import LogisticRegression\n",
        "lr_clf = LogisticRegression(max_iter=1000)\n",
        "lr_clf.fit(X_train_over,y_train_over)\n",
        "lr_pred = lr_clf.predict(X_test)\n",
        "lr_pred_proba = lr_clf.predict_proba(X_test)[:,1] # 전체 데이터의 확률을 구하기 때문에 뒤에데이터가 확률이다\n",
        "get_clf_eval(y_test,lr_pred,lr_pred_proba)"
      ],
      "metadata": {
        "id": "LW7f8Ja1c5dq",
        "colab": {
          "base_uri": "https://localhost:8080/"
        },
        "outputId": "f329566a-87c8-4adb-96c2-8b3bb3bad305"
      },
      "execution_count": null,
      "outputs": [
        {
          "output_type": "stream",
          "name": "stdout",
          "text": [
            "Confusion Matrix\n",
            "[[84864   431]\n",
            " [   24   121]]\n",
            "정확도(accuracy):0.994675, 정밀도(precision):0.219203, 재현율(recall):0.834483, F1:0.347202, AUC:0.965523\n"
          ]
        }
      ]
    },
    {
      "cell_type": "markdown",
      "source": [
        "#### 데이터 가공 후 분류모델만들기-LGBMClassifier"
      ],
      "metadata": {
        "id": "z5yWtX3uc5dq"
      }
    },
    {
      "cell_type": "code",
      "source": [
        "#SMOTE기법 후 분류모델만들기 - LGBMClassifier\n",
        "from lightgbm import LGBMClassifier\n",
        "lgbm_clf = LGBMClassifier(n_estimators=1000,num_leaves=64,n_jobs=-1,boost_from_average=False)\n",
        "lgbm_clf.fit(X_train_over,y_train_over)\n",
        "lgbm_pred = lgbm_clf.predict(X_test)\n",
        "lgbm_pred_proba = lgbm_clf.predict_proba(X_test)[:,1] # 전체 데이터의 확률을 구하기 때문에 뒤에데이터가 확률이다\n",
        "get_clf_eval(y_test,lgbm_pred,lgbm_pred_proba)"
      ],
      "metadata": {
        "id": "8NIfTzgec5dq",
        "colab": {
          "base_uri": "https://localhost:8080/"
        },
        "outputId": "75bcd18e-7d76-4fc8-c547-e51a3d196f39"
      },
      "execution_count": null,
      "outputs": [
        {
          "output_type": "stream",
          "name": "stdout",
          "text": [
            "Confusion Matrix\n",
            "[[85284    11]\n",
            " [   29   116]]\n",
            "정확도(accuracy):0.999532, 정밀도(precision):0.913386, 재현율(recall):0.800000, F1:0.852941, AUC:0.982175\n"
          ]
        }
      ]
    },
    {
      "cell_type": "markdown",
      "source": [
        "## 최적의 smote 오버샘플링 비율은 얼마일까?"
      ],
      "metadata": {
        "id": "dSUjQ92aBCXt"
      }
    },
    {
      "cell_type": "code",
      "source": [
        "#0.05 / 0.10 / 0.15 / ---- 0.95 / 1.0\n",
        "for ratio in range(1,21):\n",
        "  print(\"!!!!!!!!!!!!!! 사기데이터 % 변경!!!!!!!!!!!!!\")\n",
        "  print(ratio*0.05)\n",
        "\n",
        "  smote = SMOTE(sampling_strategy=ratio*0.05,random_state=0)\n",
        "  X_train_over, y_train_over = smote.fit_resample(X_train,y_train)\n",
        "    #기존의 X_train,y_train 의 개수\n",
        "  print(X_train.shape)\n",
        "  print(y_train.shape)\n",
        "  print(y_train.value_counts())\n",
        "\n",
        "  print(X_train_over.shape)\n",
        "  print(y_train_over.shape)\n",
        "  print(y_train_over.value_counts())\n",
        "\n",
        "    #SMOTE기법 후 분류모델만들기 - DecisionTreeClassifier\n",
        "  print(f'{ratio*0.05} 사기데이터 처리, DecisionTreeClassifier')\n",
        "  dtc_clf = DecisionTreeClassifier(random_state=0)\n",
        "  dtc_clf.fit(X_train_over,y_train_over)\n",
        "  dtc_pred = dtc_clf.predict(X_test)\n",
        "  dtc_pred_proba = dtc_clf.predict_proba(X_test)[:,1] # 전체 데이터의 확률을 구하기 때문에 뒤에데이터가 확률이다\n",
        "  get_clf_eval(y_test,dtc_pred,dtc_pred_proba)\n",
        "\n",
        "\n",
        "    #SMOTE기법 후 분류모델만들기 - LogisticRegression\n",
        "  print(f'{ratio*0.05} 사기데이터 처리, LogisticRegression')\n",
        "  lr_clf = LogisticRegression(max_iter=1000,random_state=0)\n",
        "  lr_clf.fit(X_train_over,y_train_over)\n",
        "  lr_pred = lr_clf.predict(X_test)\n",
        "  lr_pred_proba = lr_clf.predict_proba(X_test)[:,1] # 전체 데이터의 확률을 구하기 때문에 뒤에데이터가 확률이다\n",
        "  get_clf_eval(y_test,lr_pred,lr_pred_proba)\n",
        "\n",
        "    #SMOTE기법 후 분류모델만들기 - LGBMClassifier\n",
        "  print(f'{ratio*0.05} 사기데이터 처리, LGBMClassifier')\n",
        "  lgbm_clf = LGBMClassifier(n_estimators=1000,num_leaves=64,n_jobs=-1,boost_from_average=False,random_state=0)\n",
        "  lgbm_clf.fit(X_train_over,y_train_over)\n",
        "  lgbm_pred = lgbm_clf.predict(X_test)\n",
        "  lgbm_pred_proba = lgbm_clf.predict_proba(X_test)[:,1] # 전체 데이터의 확률을 구하기 때문에 뒤에데이터가 확률이다\n",
        "  get_clf_eval(y_test,lgbm_pred,lgbm_pred_proba)"
      ],
      "metadata": {
        "id": "tJVACvLfc5dq",
        "colab": {
          "base_uri": "https://localhost:8080/"
        },
        "outputId": "f17a0072-f70c-412a-ed7c-23e532ddaa9c"
      },
      "execution_count": null,
      "outputs": [
        {
          "output_type": "stream",
          "name": "stdout",
          "text": [
            "!!!!!!!!!!!!!! 사기데이터 % 변경!!!!!!!!!!!!!\n",
            "0.05\n",
            "(199360, 29)\n",
            "(199360,)\n",
            "0    199020\n",
            "1       340\n",
            "Name: Class, dtype: int64\n",
            "(208971, 29)\n",
            "(208971,)\n",
            "0    199020\n",
            "1      9951\n",
            "Name: Class, dtype: int64\n",
            "0.05 사기데이터 처리, DecisionTreeClassifier\n",
            "Confusion Matrix\n",
            "[[85124   171]\n",
            " [   34   111]]\n",
            "정확도(accuracy):0.997601, 정밀도(precision):0.393617, 재현율(recall):0.765517, F1:0.519906, AUC:0.881756\n",
            "0.05 사기데이터 처리, LogisticRegression\n",
            "Confusion Matrix\n",
            "[[85236    59]\n",
            " [   30   115]]\n",
            "정확도(accuracy):0.998958, 정밀도(precision):0.660920, 재현율(recall):0.793103, F1:0.721003, AUC:0.966061\n",
            "0.05 사기데이터 처리, LGBMClassifier\n",
            "Confusion Matrix\n",
            "[[85288     7]\n",
            " [   28   117]]\n",
            "정확도(accuracy):0.999590, 정밀도(precision):0.943548, 재현율(recall):0.806897, F1:0.869888, AUC:0.979670\n",
            "!!!!!!!!!!!!!! 사기데이터 % 변경!!!!!!!!!!!!!\n",
            "0.1\n",
            "(199360, 29)\n",
            "(199360,)\n",
            "0    199020\n",
            "1       340\n",
            "Name: Class, dtype: int64\n",
            "(218922, 29)\n",
            "(218922,)\n",
            "0    199020\n",
            "1     19902\n",
            "Name: Class, dtype: int64\n",
            "0.1 사기데이터 처리, DecisionTreeClassifier\n",
            "Confusion Matrix\n",
            "[[85116   179]\n",
            " [   29   116]]\n",
            "정확도(accuracy):0.997566, 정밀도(precision):0.393220, 재현율(recall):0.800000, F1:0.527273, AUC:0.898951\n",
            "0.1 사기데이터 처리, LogisticRegression\n",
            "Confusion Matrix\n",
            "[[85131   164]\n",
            " [   28   117]]\n",
            "정확도(accuracy):0.997753, 정밀도(precision):0.416370, 재현율(recall):0.806897, F1:0.549296, AUC:0.966125\n",
            "0.1 사기데이터 처리, LGBMClassifier\n",
            "Confusion Matrix\n",
            "[[85286     9]\n",
            " [   28   117]]\n",
            "정확도(accuracy):0.999567, 정밀도(precision):0.928571, 재현율(recall):0.806897, F1:0.863469, AUC:0.982346\n",
            "!!!!!!!!!!!!!! 사기데이터 % 변경!!!!!!!!!!!!!\n",
            "0.15000000000000002\n",
            "(199360, 29)\n",
            "(199360,)\n",
            "0    199020\n",
            "1       340\n",
            "Name: Class, dtype: int64\n",
            "(228873, 29)\n",
            "(228873,)\n",
            "0    199020\n",
            "1     29853\n",
            "Name: Class, dtype: int64\n",
            "0.15000000000000002 사기데이터 처리, DecisionTreeClassifier\n",
            "Confusion Matrix\n",
            "[[85094   201]\n",
            " [   32   113]]\n",
            "정확도(accuracy):0.997273, 정밀도(precision):0.359873, 재현율(recall):0.779310, F1:0.492375, AUC:0.888477\n",
            "0.15000000000000002 사기데이터 처리, LogisticRegression\n",
            "Confusion Matrix\n",
            "[[85006   289]\n",
            " [   25   120]]\n",
            "정확도(accuracy):0.996325, 정밀도(precision):0.293399, 재현율(recall):0.827586, F1:0.433213, AUC:0.965646\n",
            "0.15000000000000002 사기데이터 처리, LGBMClassifier\n",
            "Confusion Matrix\n",
            "[[85287     8]\n",
            " [   28   117]]\n",
            "정확도(accuracy):0.999579, 정밀도(precision):0.936000, 재현율(recall):0.806897, F1:0.866667, AUC:0.983588\n",
            "!!!!!!!!!!!!!! 사기데이터 % 변경!!!!!!!!!!!!!\n",
            "0.2\n",
            "(199360, 29)\n",
            "(199360,)\n",
            "0    199020\n",
            "1       340\n",
            "Name: Class, dtype: int64\n",
            "(238824, 29)\n",
            "(238824,)\n",
            "0    199020\n",
            "1     39804\n",
            "Name: Class, dtype: int64\n",
            "0.2 사기데이터 처리, DecisionTreeClassifier\n",
            "Confusion Matrix\n",
            "[[85110   185]\n",
            " [   33   112]]\n",
            "정확도(accuracy):0.997449, 정밀도(precision):0.377104, 재현율(recall):0.772414, F1:0.506787, AUC:0.885122\n",
            "0.2 사기데이터 처리, LogisticRegression\n",
            "Confusion Matrix\n",
            "[[84864   431]\n",
            " [   24   121]]\n",
            "정확도(accuracy):0.994675, 정밀도(precision):0.219203, 재현율(recall):0.834483, F1:0.347202, AUC:0.965523\n",
            "0.2 사기데이터 처리, LGBMClassifier\n",
            "Confusion Matrix\n",
            "[[85286     9]\n",
            " [   28   117]]\n",
            "정확도(accuracy):0.999567, 정밀도(precision):0.928571, 재현율(recall):0.806897, F1:0.863469, AUC:0.981444\n",
            "!!!!!!!!!!!!!! 사기데이터 % 변경!!!!!!!!!!!!!\n",
            "0.25\n",
            "(199360, 29)\n",
            "(199360,)\n",
            "0    199020\n",
            "1       340\n",
            "Name: Class, dtype: int64\n",
            "(248775, 29)\n",
            "(248775,)\n",
            "0    199020\n",
            "1     49755\n",
            "Name: Class, dtype: int64\n",
            "0.25 사기데이터 처리, DecisionTreeClassifier\n",
            "Confusion Matrix\n",
            "[[85147   148]\n",
            " [   29   116]]\n",
            "정확도(accuracy):0.997928, 정밀도(precision):0.439394, 재현율(recall):0.800000, F1:0.567237, AUC:0.899132\n",
            "0.25 사기데이터 처리, LogisticRegression\n",
            "Confusion Matrix\n",
            "[[84770   525]\n",
            " [   24   121]]\n",
            "정확도(accuracy):0.993574, 정밀도(precision):0.187307, 재현율(recall):0.834483, F1:0.305942, AUC:0.965080\n",
            "0.25 사기데이터 처리, LGBMClassifier\n",
            "Confusion Matrix\n",
            "[[85286     9]\n",
            " [   28   117]]\n",
            "정확도(accuracy):0.999567, 정밀도(precision):0.928571, 재현율(recall):0.806897, F1:0.863469, AUC:0.982150\n",
            "!!!!!!!!!!!!!! 사기데이터 % 변경!!!!!!!!!!!!!\n",
            "0.30000000000000004\n",
            "(199360, 29)\n",
            "(199360,)\n",
            "0    199020\n",
            "1       340\n",
            "Name: Class, dtype: int64\n",
            "(258726, 29)\n",
            "(258726,)\n",
            "0    199020\n",
            "1     59706\n",
            "Name: Class, dtype: int64\n",
            "0.30000000000000004 사기데이터 처리, DecisionTreeClassifier\n",
            "Confusion Matrix\n",
            "[[85097   198]\n",
            " [   31   114]]\n",
            "정확도(accuracy):0.997320, 정밀도(precision):0.365385, 재현율(recall):0.786207, F1:0.498906, AUC:0.891943\n",
            "0.30000000000000004 사기데이터 처리, LogisticRegression\n",
            "Confusion Matrix\n",
            "[[84663   632]\n",
            " [   24   121]]\n",
            "정확도(accuracy):0.992322, 정밀도(precision):0.160691, 재현율(recall):0.834483, F1:0.269488, AUC:0.964499\n",
            "0.30000000000000004 사기데이터 처리, LGBMClassifier\n",
            "Confusion Matrix\n",
            "[[85282    13]\n",
            " [   29   116]]\n",
            "정확도(accuracy):0.999508, 정밀도(precision):0.899225, 재현율(recall):0.800000, F1:0.846715, AUC:0.982481\n",
            "!!!!!!!!!!!!!! 사기데이터 % 변경!!!!!!!!!!!!!\n",
            "0.35000000000000003\n",
            "(199360, 29)\n",
            "(199360,)\n",
            "0    199020\n",
            "1       340\n",
            "Name: Class, dtype: int64\n",
            "(268677, 29)\n",
            "(268677,)\n",
            "0    199020\n",
            "1     69657\n",
            "Name: Class, dtype: int64\n",
            "0.35000000000000003 사기데이터 처리, DecisionTreeClassifier\n",
            "Confusion Matrix\n",
            "[[85137   158]\n",
            " [   32   113]]\n",
            "정확도(accuracy):0.997776, 정밀도(precision):0.416974, 재현율(recall):0.779310, F1:0.543269, AUC:0.888729\n",
            "0.35000000000000003 사기데이터 처리, LogisticRegression\n",
            "Confusion Matrix\n",
            "[[84580   715]\n",
            " [   22   123]]\n",
            "정확도(accuracy):0.991374, 정밀도(precision):0.146778, 재현율(recall):0.848276, F1:0.250254, AUC:0.965249\n",
            "0.35000000000000003 사기데이터 처리, LGBMClassifier\n",
            "Confusion Matrix\n",
            "[[85284    11]\n",
            " [   29   116]]\n",
            "정확도(accuracy):0.999532, 정밀도(precision):0.913386, 재현율(recall):0.800000, F1:0.852941, AUC:0.979120\n",
            "!!!!!!!!!!!!!! 사기데이터 % 변경!!!!!!!!!!!!!\n",
            "0.4\n",
            "(199360, 29)\n",
            "(199360,)\n",
            "0    199020\n",
            "1       340\n",
            "Name: Class, dtype: int64\n",
            "(278628, 29)\n",
            "(278628,)\n",
            "0    199020\n",
            "1     79608\n",
            "Name: Class, dtype: int64\n",
            "0.4 사기데이터 처리, DecisionTreeClassifier\n",
            "Confusion Matrix\n",
            "[[85105   190]\n",
            " [   33   112]]\n",
            "정확도(accuracy):0.997390, 정밀도(precision):0.370861, 재현율(recall):0.772414, F1:0.501119, AUC:0.885093\n",
            "0.4 사기데이터 처리, LogisticRegression\n",
            "Confusion Matrix\n",
            "[[84507   788]\n",
            " [   21   124]]\n",
            "정확도(accuracy):0.990531, 정밀도(precision):0.135965, 재현율(recall):0.855172, F1:0.234626, AUC:0.965077\n",
            "0.4 사기데이터 처리, LGBMClassifier\n",
            "Confusion Matrix\n",
            "[[85284    11]\n",
            " [   28   117]]\n",
            "정확도(accuracy):0.999544, 정밀도(precision):0.914062, 재현율(recall):0.806897, F1:0.857143, AUC:0.981015\n",
            "!!!!!!!!!!!!!! 사기데이터 % 변경!!!!!!!!!!!!!\n",
            "0.45\n",
            "(199360, 29)\n",
            "(199360,)\n",
            "0    199020\n",
            "1       340\n",
            "Name: Class, dtype: int64\n",
            "(288579, 29)\n",
            "(288579,)\n",
            "0    199020\n",
            "1     89559\n",
            "Name: Class, dtype: int64\n",
            "0.45 사기데이터 처리, DecisionTreeClassifier\n",
            "Confusion Matrix\n",
            "[[85107   188]\n",
            " [   31   114]]\n",
            "정확도(accuracy):0.997437, 정밀도(precision):0.377483, 재현율(recall):0.786207, F1:0.510067, AUC:0.892001\n",
            "0.45 사기데이터 처리, LogisticRegression\n",
            "Confusion Matrix\n",
            "[[84396   899]\n",
            " [   21   124]]\n",
            "정확도(accuracy):0.989232, 정밀도(precision):0.121212, 재현율(recall):0.855172, F1:0.212329, AUC:0.965091\n",
            "0.45 사기데이터 처리, LGBMClassifier\n",
            "Confusion Matrix\n",
            "[[85285    10]\n",
            " [   28   117]]\n",
            "정확도(accuracy):0.999555, 정밀도(precision):0.921260, 재현율(recall):0.806897, F1:0.860294, AUC:0.984085\n",
            "!!!!!!!!!!!!!! 사기데이터 % 변경!!!!!!!!!!!!!\n",
            "0.5\n",
            "(199360, 29)\n",
            "(199360,)\n",
            "0    199020\n",
            "1       340\n",
            "Name: Class, dtype: int64\n",
            "(298530, 29)\n",
            "(298530,)\n",
            "0    199020\n",
            "1     99510\n",
            "Name: Class, dtype: int64\n",
            "0.5 사기데이터 처리, DecisionTreeClassifier\n",
            "Confusion Matrix\n",
            "[[85121   174]\n",
            " [   34   111]]\n",
            "정확도(accuracy):0.997566, 정밀도(precision):0.389474, 재현율(recall):0.765517, F1:0.516279, AUC:0.881739\n",
            "0.5 사기데이터 처리, LogisticRegression\n",
            "Confusion Matrix\n",
            "[[84295  1000]\n",
            " [   20   125]]\n",
            "정확도(accuracy):0.988062, 정밀도(precision):0.111111, 재현율(recall):0.862069, F1:0.196850, AUC:0.965156\n",
            "0.5 사기데이터 처리, LGBMClassifier\n",
            "Confusion Matrix\n",
            "[[85283    12]\n",
            " [   31   114]]\n",
            "정확도(accuracy):0.999497, 정밀도(precision):0.904762, 재현율(recall):0.786207, F1:0.841328, AUC:0.981450\n",
            "!!!!!!!!!!!!!! 사기데이터 % 변경!!!!!!!!!!!!!\n",
            "0.55\n",
            "(199360, 29)\n",
            "(199360,)\n",
            "0    199020\n",
            "1       340\n",
            "Name: Class, dtype: int64\n",
            "(308481, 29)\n",
            "(308481,)\n",
            "0    199020\n",
            "1    109461\n",
            "Name: Class, dtype: int64\n",
            "0.55 사기데이터 처리, DecisionTreeClassifier\n",
            "Confusion Matrix\n",
            "[[85101   194]\n",
            " [   33   112]]\n",
            "정확도(accuracy):0.997343, 정밀도(precision):0.366013, 재현율(recall):0.772414, F1:0.496674, AUC:0.885070\n",
            "0.55 사기데이터 처리, LogisticRegression\n",
            "Confusion Matrix\n",
            "[[84177  1118]\n",
            " [   19   126]]\n",
            "정확도(accuracy):0.986692, 정밀도(precision):0.101286, 재현율(recall):0.868966, F1:0.181425, AUC:0.965155\n",
            "0.55 사기데이터 처리, LGBMClassifier\n",
            "Confusion Matrix\n",
            "[[85281    14]\n",
            " [   27   118]]\n",
            "정확도(accuracy):0.999520, 정밀도(precision):0.893939, 재현율(recall):0.813793, F1:0.851986, AUC:0.982889\n",
            "!!!!!!!!!!!!!! 사기데이터 % 변경!!!!!!!!!!!!!\n",
            "0.6000000000000001\n",
            "(199360, 29)\n",
            "(199360,)\n",
            "0    199020\n",
            "1       340\n",
            "Name: Class, dtype: int64\n",
            "(318432, 29)\n",
            "(318432,)\n",
            "0    199020\n",
            "1    119412\n",
            "Name: Class, dtype: int64\n",
            "0.6000000000000001 사기데이터 처리, DecisionTreeClassifier\n",
            "Confusion Matrix\n",
            "[[85125   170]\n",
            " [   35   110]]\n",
            "정확도(accuracy):0.997601, 정밀도(precision):0.392857, 재현율(recall):0.758621, F1:0.517647, AUC:0.878314\n",
            "0.6000000000000001 사기데이터 처리, LogisticRegression\n",
            "Confusion Matrix\n",
            "[[84072  1223]\n",
            " [   19   126]]\n",
            "정확도(accuracy):0.985463, 정밀도(precision):0.093403, 재현율(recall):0.868966, F1:0.168675, AUC:0.965163\n",
            "0.6000000000000001 사기데이터 처리, LGBMClassifier\n",
            "Confusion Matrix\n",
            "[[85284    11]\n",
            " [   28   117]]\n",
            "정확도(accuracy):0.999544, 정밀도(precision):0.914062, 재현율(recall):0.806897, F1:0.857143, AUC:0.983596\n",
            "!!!!!!!!!!!!!! 사기데이터 % 변경!!!!!!!!!!!!!\n",
            "0.65\n",
            "(199360, 29)\n",
            "(199360,)\n",
            "0    199020\n",
            "1       340\n",
            "Name: Class, dtype: int64\n",
            "(328383, 29)\n",
            "(328383,)\n",
            "0    199020\n",
            "1    129363\n",
            "Name: Class, dtype: int64\n",
            "0.65 사기데이터 처리, DecisionTreeClassifier\n",
            "Confusion Matrix\n",
            "[[85108   187]\n",
            " [   34   111]]\n",
            "정확도(accuracy):0.997413, 정밀도(precision):0.372483, 재현율(recall):0.765517, F1:0.501129, AUC:0.881662\n",
            "0.65 사기데이터 처리, LogisticRegression\n",
            "Confusion Matrix\n",
            "[[83977  1318]\n",
            " [   18   127]]\n",
            "정확도(accuracy):0.984363, 정밀도(precision):0.087889, 재현율(recall):0.875862, F1:0.159748, AUC:0.965343\n",
            "0.65 사기데이터 처리, LGBMClassifier\n",
            "Confusion Matrix\n",
            "[[85283    12]\n",
            " [   29   116]]\n",
            "정확도(accuracy):0.999520, 정밀도(precision):0.906250, 재현율(recall):0.800000, F1:0.849817, AUC:0.982240\n",
            "!!!!!!!!!!!!!! 사기데이터 % 변경!!!!!!!!!!!!!\n",
            "0.7000000000000001\n",
            "(199360, 29)\n",
            "(199360,)\n",
            "0    199020\n",
            "1       340\n",
            "Name: Class, dtype: int64\n",
            "(338334, 29)\n",
            "(338334,)\n",
            "0    199020\n",
            "1    139314\n",
            "Name: Class, dtype: int64\n",
            "0.7000000000000001 사기데이터 처리, DecisionTreeClassifier\n",
            "Confusion Matrix\n",
            "[[85110   185]\n",
            " [   34   111]]\n",
            "정확도(accuracy):0.997437, 정밀도(precision):0.375000, 재현율(recall):0.765517, F1:0.503401, AUC:0.881674\n",
            "0.7000000000000001 사기데이터 처리, LogisticRegression\n",
            "Confusion Matrix\n",
            "[[83855  1440]\n",
            " [   17   128]]\n",
            "정확도(accuracy):0.982947, 정밀도(precision):0.081633, 재현율(recall):0.882759, F1:0.149445, AUC:0.965399\n",
            "0.7000000000000001 사기데이터 처리, LGBMClassifier\n",
            "Confusion Matrix\n",
            "[[85282    13]\n",
            " [   29   116]]\n",
            "정확도(accuracy):0.999508, 정밀도(precision):0.899225, 재현율(recall):0.800000, F1:0.846715, AUC:0.982273\n",
            "!!!!!!!!!!!!!! 사기데이터 % 변경!!!!!!!!!!!!!\n",
            "0.75\n",
            "(199360, 29)\n",
            "(199360,)\n",
            "0    199020\n",
            "1       340\n",
            "Name: Class, dtype: int64\n",
            "(348285, 29)\n",
            "(348285,)\n",
            "0    199020\n",
            "1    149265\n",
            "Name: Class, dtype: int64\n",
            "0.75 사기데이터 처리, DecisionTreeClassifier\n",
            "Confusion Matrix\n",
            "[[85130   165]\n",
            " [   33   112]]\n",
            "정확도(accuracy):0.997683, 정밀도(precision):0.404332, 재현율(recall):0.772414, F1:0.530806, AUC:0.885240\n",
            "0.75 사기데이터 처리, LogisticRegression\n",
            "Confusion Matrix\n",
            "[[83757  1538]\n",
            " [   17   128]]\n",
            "정확도(accuracy):0.981800, 정밀도(precision):0.076831, 재현율(recall):0.882759, F1:0.141358, AUC:0.965659\n",
            "0.75 사기데이터 처리, LGBMClassifier\n",
            "Confusion Matrix\n",
            "[[85282    13]\n",
            " [   30   115]]\n",
            "정확도(accuracy):0.999497, 정밀도(precision):0.898438, 재현율(recall):0.793103, F1:0.842491, AUC:0.973641\n",
            "!!!!!!!!!!!!!! 사기데이터 % 변경!!!!!!!!!!!!!\n",
            "0.8\n",
            "(199360, 29)\n",
            "(199360,)\n",
            "0    199020\n",
            "1       340\n",
            "Name: Class, dtype: int64\n",
            "(358236, 29)\n",
            "(358236,)\n",
            "0    199020\n",
            "1    159216\n",
            "Name: Class, dtype: int64\n",
            "0.8 사기데이터 처리, DecisionTreeClassifier\n",
            "Confusion Matrix\n",
            "[[85104   191]\n",
            " [   35   110]]\n",
            "정확도(accuracy):0.997355, 정밀도(precision):0.365449, 재현율(recall):0.758621, F1:0.493274, AUC:0.878191\n",
            "0.8 사기데이터 처리, LogisticRegression\n",
            "Confusion Matrix\n",
            "[[83638  1657]\n",
            " [   17   128]]\n",
            "정확도(accuracy):0.980407, 정밀도(precision):0.071709, 재현율(recall):0.882759, F1:0.132642, AUC:0.965898\n",
            "0.8 사기데이터 처리, LGBMClassifier\n",
            "Confusion Matrix\n",
            "[[85281    14]\n",
            " [   29   116]]\n",
            "정확도(accuracy):0.999497, 정밀도(precision):0.892308, 재현율(recall):0.800000, F1:0.843636, AUC:0.981510\n",
            "!!!!!!!!!!!!!! 사기데이터 % 변경!!!!!!!!!!!!!\n",
            "0.8500000000000001\n",
            "(199360, 29)\n",
            "(199360,)\n",
            "0    199020\n",
            "1       340\n",
            "Name: Class, dtype: int64\n",
            "(368187, 29)\n",
            "(368187,)\n",
            "0    199020\n",
            "1    169167\n",
            "Name: Class, dtype: int64\n",
            "0.8500000000000001 사기데이터 처리, DecisionTreeClassifier\n",
            "Confusion Matrix\n",
            "[[85116   179]\n",
            " [   35   110]]\n",
            "정확도(accuracy):0.997495, 정밀도(precision):0.380623, 재현율(recall):0.758621, F1:0.506912, AUC:0.878261\n",
            "0.8500000000000001 사기데이터 처리, LogisticRegression\n",
            "Confusion Matrix\n",
            "[[83524  1771]\n",
            " [   17   128]]\n",
            "정확도(accuracy):0.979073, 정밀도(precision):0.067404, 재현율(recall):0.882759, F1:0.125245, AUC:0.965653\n",
            "0.8500000000000001 사기데이터 처리, LGBMClassifier\n",
            "Confusion Matrix\n",
            "[[85281    14]\n",
            " [   28   117]]\n",
            "정확도(accuracy):0.999508, 정밀도(precision):0.893130, 재현율(recall):0.806897, F1:0.847826, AUC:0.981644\n",
            "!!!!!!!!!!!!!! 사기데이터 % 변경!!!!!!!!!!!!!\n",
            "0.9\n",
            "(199360, 29)\n",
            "(199360,)\n",
            "0    199020\n",
            "1       340\n",
            "Name: Class, dtype: int64\n",
            "(378138, 29)\n",
            "(378138,)\n",
            "0    199020\n",
            "1    179118\n",
            "Name: Class, dtype: int64\n",
            "0.9 사기데이터 처리, DecisionTreeClassifier\n",
            "Confusion Matrix\n",
            "[[85095   200]\n",
            " [   36   109]]\n",
            "정확도(accuracy):0.997238, 정밀도(precision):0.352751, 재현율(recall):0.751724, F1:0.480176, AUC:0.874690\n",
            "0.9 사기데이터 처리, LogisticRegression\n",
            "Confusion Matrix\n",
            "[[83389  1906]\n",
            " [   17   128]]\n",
            "정확도(accuracy):0.977493, 정밀도(precision):0.062930, 재현율(recall):0.882759, F1:0.117485, AUC:0.965412\n",
            "0.9 사기데이터 처리, LGBMClassifier\n",
            "Confusion Matrix\n",
            "[[85281    14]\n",
            " [   31   114]]\n",
            "정확도(accuracy):0.999473, 정밀도(precision):0.890625, 재현율(recall):0.786207, F1:0.835165, AUC:0.980942\n",
            "!!!!!!!!!!!!!! 사기데이터 % 변경!!!!!!!!!!!!!\n",
            "0.9500000000000001\n",
            "(199360, 29)\n",
            "(199360,)\n",
            "0    199020\n",
            "1       340\n",
            "Name: Class, dtype: int64\n",
            "(388089, 29)\n",
            "(388089,)\n",
            "0    199020\n",
            "1    189069\n",
            "Name: Class, dtype: int64\n",
            "0.9500000000000001 사기데이터 처리, DecisionTreeClassifier\n",
            "Confusion Matrix\n",
            "[[85139   156]\n",
            " [   34   111]]\n",
            "정확도(accuracy):0.997776, 정밀도(precision):0.415730, 재현율(recall):0.765517, F1:0.538835, AUC:0.881844\n",
            "0.9500000000000001 사기데이터 처리, LogisticRegression\n",
            "Confusion Matrix\n",
            "[[83268  2027]\n",
            " [   16   129]]\n",
            "정확도(accuracy):0.976088, 정밀도(precision):0.059833, 재현율(recall):0.889655, F1:0.112125, AUC:0.965775\n",
            "0.9500000000000001 사기데이터 처리, LGBMClassifier\n",
            "Confusion Matrix\n",
            "[[85282    13]\n",
            " [   27   118]]\n",
            "정확도(accuracy):0.999532, 정밀도(precision):0.900763, 재현율(recall):0.813793, F1:0.855072, AUC:0.983898\n",
            "!!!!!!!!!!!!!! 사기데이터 % 변경!!!!!!!!!!!!!\n",
            "1.0\n",
            "(199360, 29)\n",
            "(199360,)\n",
            "0    199020\n",
            "1       340\n",
            "Name: Class, dtype: int64\n",
            "(398040, 29)\n",
            "(398040,)\n",
            "0    199020\n",
            "1    199020\n",
            "Name: Class, dtype: int64\n",
            "1.0 사기데이터 처리, DecisionTreeClassifier\n",
            "Confusion Matrix\n",
            "[[85108   187]\n",
            " [   36   109]]\n",
            "정확도(accuracy):0.997390, 정밀도(precision):0.368243, 재현율(recall):0.751724, F1:0.494331, AUC:0.874766\n",
            "1.0 사기데이터 처리, LogisticRegression\n",
            "Confusion Matrix\n",
            "[[83136  2159]\n",
            " [   16   129]]\n",
            "정확도(accuracy):0.974544, 정밀도(precision):0.056381, 재현율(recall):0.889655, F1:0.106042, AUC:0.965770\n",
            "1.0 사기데이터 처리, LGBMClassifier\n",
            "Confusion Matrix\n",
            "[[77262  8033]\n",
            " [   18   127]]\n",
            "정확도(accuracy):0.905770, 정밀도(precision):0.015564, 재현율(recall):0.875862, F1:0.030584, AUC:0.890831\n"
          ]
        }
      ]
    },
    {
      "cell_type": "code",
      "source": [],
      "metadata": {
        "id": "ZeswRwIW5bAv"
      },
      "execution_count": null,
      "outputs": []
    }
  ]
}